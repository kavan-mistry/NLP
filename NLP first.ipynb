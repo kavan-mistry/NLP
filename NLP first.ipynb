{
 "cells": [
  {
   "cell_type": "code",
   "execution_count": 1,
   "metadata": {
    "id": "-HDhYOf4npO0"
   },
   "outputs": [],
   "source": [
    "import numpy as np\n",
    "import pandas as pd"
   ]
  },
  {
   "cell_type": "code",
   "execution_count": 2,
   "metadata": {
    "id": "-3IBbYVMoPMV"
   },
   "outputs": [],
   "source": [
    "a=5"
   ]
  },
  {
   "cell_type": "code",
   "execution_count": 3,
   "metadata": {
    "id": "VWIu9woVoR5f"
   },
   "outputs": [],
   "source": [
    "import re"
   ]
  },
  {
   "cell_type": "code",
   "execution_count": 4,
   "metadata": {
    "id": "pt7CGH4NpRKC"
   },
   "outputs": [],
   "source": [
    "Str = \"sat,hat,mat,pat\""
   ]
  },
  {
   "cell_type": "code",
   "execution_count": 5,
   "metadata": {
    "id": "gzle5Bh3pW_f"
   },
   "outputs": [],
   "source": [
    "allstr = re.findall(\"[a-m]at\", Str)"
   ]
  },
  {
   "cell_type": "code",
   "execution_count": 6,
   "metadata": {
    "colab": {
     "base_uri": "https://localhost:8080/"
    },
    "executionInfo": {
     "elapsed": 9,
     "status": "ok",
     "timestamp": 1704358322138,
     "user": {
      "displayName": "Meetrajsinh Chudasama",
      "userId": "12244902530098997309"
     },
     "user_tz": -330
    },
    "id": "nb_FMU8Hqf7J",
    "outputId": "51f1d082-19b7-47d7-a00a-0d43628539e1"
   },
   "outputs": [
    {
     "data": {
      "text/plain": [
       "['hat', 'mat']"
      ]
     },
     "execution_count": 6,
     "metadata": {},
     "output_type": "execute_result"
    }
   ],
   "source": [
    "allstr"
   ]
  },
  {
   "cell_type": "code",
   "execution_count": 10,
   "metadata": {
    "id": "Om8KCcXYqoRV"
   },
   "outputs": [],
   "source": [
    "w = \"kavan,shikhar,dev,vaibhav,kush,meetraj\""
   ]
  },
  {
   "cell_type": "code",
   "execution_count": 11,
   "metadata": {
    "id": "ogIZ0otTrco_"
   },
   "outputs": [],
   "source": [
    "b = re.findall(r\"\\b\\w\\w\",w)"
   ]
  },
  {
   "cell_type": "code",
   "execution_count": 12,
   "metadata": {
    "colab": {
     "base_uri": "https://localhost:8080/"
    },
    "executionInfo": {
     "elapsed": 6,
     "status": "ok",
     "timestamp": 1704359285853,
     "user": {
      "displayName": "Meetrajsinh Chudasama",
      "userId": "12244902530098997309"
     },
     "user_tz": -330
    },
    "id": "bRQjB_jUsDAy",
    "outputId": "60977c83-e49e-411a-b20c-ac907527b5eb"
   },
   "outputs": [
    {
     "data": {
      "text/plain": [
       "['ka', 'sh', 'de', 'va', 'ku', 'me']"
      ]
     },
     "execution_count": 12,
     "metadata": {},
     "output_type": "execute_result"
    }
   ],
   "source": [
    "b"
   ]
  },
  {
   "cell_type": "code",
   "execution_count": 14,
   "metadata": {
    "id": "imJQVKrxuuZN"
   },
   "outputs": [],
   "source": [
    "email=\"abc@gmail.com,def@pdeu.ac.in,sal@tech.ac,in\""
   ]
  },
  {
   "cell_type": "code",
   "execution_count": 15,
   "metadata": {
    "id": "cUGx3hltvNvg"
   },
   "outputs": [],
   "source": [
    "m = re.findall((r\"@\\w+.\\w+\"),email)"
   ]
  },
  {
   "cell_type": "code",
   "execution_count": 16,
   "metadata": {
    "colab": {
     "base_uri": "https://localhost:8080/"
    },
    "executionInfo": {
     "elapsed": 12,
     "status": "ok",
     "timestamp": 1704359952407,
     "user": {
      "displayName": "Meetrajsinh Chudasama",
      "userId": "12244902530098997309"
     },
     "user_tz": -330
    },
    "id": "fOenLKUBv3Kd",
    "outputId": "c6b3f60b-6c5c-4a8d-8c66-cc67d607bdf3"
   },
   "outputs": [
    {
     "name": "stdout",
     "output_type": "stream",
     "text": [
      "['@gmail.com', '@pdeu.ac', '@tech.ac']\n"
     ]
    }
   ],
   "source": [
    "print(m)"
   ]
  },
  {
   "cell_type": "markdown",
   "metadata": {
    "id": "2d_mzG_9w0yV"
   },
   "source": [
    "impliment for phone numbers to search for indian number wich are 10 digit"
   ]
  },
  {
   "cell_type": "code",
   "execution_count": 17,
   "metadata": {
    "id": "0-lKyiI9v3mw"
   },
   "outputs": [],
   "source": [
    "M = re.split(\",\",w)"
   ]
  },
  {
   "cell_type": "code",
   "execution_count": 18,
   "metadata": {
    "colab": {
     "base_uri": "https://localhost:8080/"
    },
    "executionInfo": {
     "elapsed": 7,
     "status": "ok",
     "timestamp": 1704359972465,
     "user": {
      "displayName": "Meetrajsinh Chudasama",
      "userId": "12244902530098997309"
     },
     "user_tz": -330
    },
    "id": "Aztr8oh9xKnp",
    "outputId": "d98cadd1-dd07-4ce5-fadc-0e598a5b027a"
   },
   "outputs": [
    {
     "data": {
      "text/plain": [
       "['kavan', 'shikhar', 'dev', 'vaibhav', 'kush', 'meetraj']"
      ]
     },
     "execution_count": 18,
     "metadata": {},
     "output_type": "execute_result"
    }
   ],
   "source": [
    "M"
   ]
  },
  {
   "cell_type": "code",
   "execution_count": 19,
   "metadata": {
    "id": "gL3tcnR7xLSK"
   },
   "outputs": [],
   "source": [
    "para=\"Mr. Hello. First, we replace every occurrence of the first delimiter with the second, and then we split on the second delimiter. The str.replace method returns a copy of the string with all occurrences of a substring replaced by the provided replacement.\""
   ]
  },
  {
   "cell_type": "code",
   "execution_count": 20,
   "metadata": {
    "id": "AaMupkw5x7HX"
   },
   "outputs": [],
   "source": [
    "para2 = re.split(r\"\\.\",para)"
   ]
  },
  {
   "cell_type": "code",
   "execution_count": 21,
   "metadata": {
    "colab": {
     "base_uri": "https://localhost:8080/"
    },
    "executionInfo": {
     "elapsed": 13,
     "status": "ok",
     "timestamp": 1704361864105,
     "user": {
      "displayName": "Meetrajsinh Chudasama",
      "userId": "12244902530098997309"
     },
     "user_tz": -330
    },
    "id": "z_HdzXtuyCON",
    "outputId": "fe36aa30-5a0f-45e0-b325-a212fbde58bd"
   },
   "outputs": [
    {
     "name": "stdout",
     "output_type": "stream",
     "text": [
      "['Mr', ' Hello', ' First, we replace every occurrence of the first delimiter with the second, and then we split on the second delimiter', ' The str', 'replace method returns a copy of the string with all occurrences of a substring replaced by the provided replacement', '']\n"
     ]
    }
   ],
   "source": [
    "print(para2)"
   ]
  },
  {
   "cell_type": "code",
   "execution_count": 22,
   "metadata": {
    "id": "4DNqkywh1Gor"
   },
   "outputs": [],
   "source": [
    "para3 = re.split(r\"\\.\\s\",para)"
   ]
  },
  {
   "cell_type": "code",
   "execution_count": 23,
   "metadata": {
    "colab": {
     "base_uri": "https://localhost:8080/"
    },
    "executionInfo": {
     "elapsed": 9,
     "status": "ok",
     "timestamp": 1704361892464,
     "user": {
      "displayName": "Meetrajsinh Chudasama",
      "userId": "12244902530098997309"
     },
     "user_tz": -330
    },
    "id": "RpPeK7jq2jwq",
    "outputId": "48589146-b81f-4145-cb71-b496bfaa813e"
   },
   "outputs": [
    {
     "data": {
      "text/plain": [
       "['Mr',\n",
       " 'Hello',\n",
       " 'First, we replace every occurrence of the first delimiter with the second, and then we split on the second delimiter',\n",
       " 'The str.replace method returns a copy of the string with all occurrences of a substring replaced by the provided replacement.']"
      ]
     },
     "execution_count": 23,
     "metadata": {},
     "output_type": "execute_result"
    }
   ],
   "source": [
    "para3"
   ]
  },
  {
   "cell_type": "code",
   "execution_count": 26,
   "metadata": {
    "id": "m2R6V8W4AAMq"
   },
   "outputs": [],
   "source": [
    "a=open(\"D:/labs/NLP/train2.txt\")"
   ]
  },
  {
   "cell_type": "code",
   "execution_count": 27,
   "metadata": {
    "colab": {
     "base_uri": "https://localhost:8080/"
    },
    "executionInfo": {
     "elapsed": 3,
     "status": "ok",
     "timestamp": 1704363977863,
     "user": {
      "displayName": "Meetrajsinh Chudasama",
      "userId": "12244902530098997309"
     },
     "user_tz": -330
    },
    "id": "dsp12FIGAl3z",
    "outputId": "56a1926c-b8a4-40f3-e645-bb1f5cc3dec8"
   },
   "outputs": [
    {
     "data": {
      "text/plain": [
       "<_io.TextIOWrapper name='D:/labs/NLP/train2.txt' mode='r' encoding='cp1252'>"
      ]
     },
     "execution_count": 27,
     "metadata": {},
     "output_type": "execute_result"
    }
   ],
   "source": [
    "a"
   ]
  }
 ],
 "metadata": {
  "colab": {
   "authorship_tag": "ABX9TyP612AbRgV9giikb+Jy1Gv+",
   "provenance": []
  },
  "kernelspec": {
   "display_name": "Python 3 (ipykernel)",
   "language": "python",
   "name": "python3"
  },
  "language_info": {
   "codemirror_mode": {
    "name": "ipython",
    "version": 3
   },
   "file_extension": ".py",
   "mimetype": "text/x-python",
   "name": "python",
   "nbconvert_exporter": "python",
   "pygments_lexer": "ipython3",
   "version": "3.11.5"
  }
 },
 "nbformat": 4,
 "nbformat_minor": 1
}
