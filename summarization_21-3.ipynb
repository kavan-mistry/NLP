{
 "cells": [
  {
   "cell_type": "code",
   "execution_count": 4,
   "id": "29732269-25d1-4145-9b80-d23267863f78",
   "metadata": {},
   "outputs": [
    {
     "name": "stderr",
     "output_type": "stream",
     "text": [
      "[nltk_data] Downloading package punkt to\n",
      "[nltk_data]     C:\\Users\\kavan\\AppData\\Roaming\\nltk_data...\n",
      "[nltk_data]   Package punkt is already up-to-date!\n"
     ]
    },
    {
     "data": {
      "text/plain": [
       "True"
      ]
     },
     "execution_count": 4,
     "metadata": {},
     "output_type": "execute_result"
    }
   ],
   "source": [
    "import nltk\n",
    "from nltk.tokenize import word_tokenize\n",
    "nltk.download('punkt')"
   ]
  },
  {
   "cell_type": "code",
   "execution_count": 5,
   "id": "76337660-62cb-4dbc-a08a-7d093f0ce6e1",
   "metadata": {},
   "outputs": [],
   "source": [
    "from docx import Document"
   ]
  },
  {
   "cell_type": "code",
   "execution_count": 6,
   "id": "61bfc399-ccf0-40e6-85d2-d7fa5a0ad3b9",
   "metadata": {},
   "outputs": [],
   "source": [
    "def tokenize_document(document):\n",
    "    tokens = word_tokenize(document)\n",
    "    return tokens"
   ]
  },
  {
   "cell_type": "code",
   "execution_count": 8,
   "id": "73e5e7cb-2a1d-4ee9-aa8e-16d26e1ff5e4",
   "metadata": {},
   "outputs": [],
   "source": [
    "doc = Document('doc3.docx')"
   ]
  },
  {
   "cell_type": "code",
   "execution_count": 9,
   "id": "c26f2537-d1fa-4083-8d86-56eeef1da6df",
   "metadata": {},
   "outputs": [],
   "source": [
    "document_text = \"\""
   ]
  },
  {
   "cell_type": "code",
   "execution_count": 10,
   "id": "573e8ebb-204c-4536-8811-2292a0f9e1a4",
   "metadata": {},
   "outputs": [],
   "source": [
    "for paragraph in doc.paragraphs:\n",
    "    document_text += paragraph.text + \"\\n\""
   ]
  },
  {
   "cell_type": "code",
   "execution_count": 11,
   "id": "ee868cd2-ece8-4212-b4be-ad90b2e0652f",
   "metadata": {},
   "outputs": [],
   "source": [
    "tokenized_document = tokenize_document(document_text)"
   ]
  },
  {
   "cell_type": "code",
   "execution_count": 12,
   "id": "cb4cc815-4aed-44fa-b1d9-abb2df609deb",
   "metadata": {
    "scrolled": true
   },
   "outputs": [
    {
     "name": "stdout",
     "output_type": "stream",
     "text": [
      "Tokenized document:\n",
      "['Mahatma', 'Gandhi', 'played', 'a', 'crucial', 'role', 'in', 'India', \"'s\", 'fight', 'for', 'freedom', 'from', 'British', 'rule', '.', 'His', 'life', 'was', 'dedicated', 'to', 'serving', 'his', 'country', 'and', 'its', 'people', ',', 'and', 'he', 'became', 'an', 'international', 'symbol', 'of', 'Indian', 'leadership', '.', 'Even', 'today', ',', 'he', 'continues', 'to', 'inspire', 'and', 'motivate', 'young', 'people', 'worldwide', 'with', 'his', 'values', 'and', 'principles', '.']\n"
     ]
    }
   ],
   "source": [
    "print(\"Tokenized document:\")\n",
    "print(tokenized_document)"
   ]
  },
  {
   "cell_type": "code",
   "execution_count": 13,
   "id": "2b0c4f68-391e-4b03-ac28-f84aee2f6026",
   "metadata": {},
   "outputs": [],
   "source": [
    "from nltk.corpus import stopwords"
   ]
  },
  {
   "cell_type": "code",
   "execution_count": 14,
   "id": "d1a6ce36-e9f9-4598-bc59-bcfce313e035",
   "metadata": {},
   "outputs": [
    {
     "name": "stderr",
     "output_type": "stream",
     "text": [
      "[nltk_data] Downloading package stopwords to\n",
      "[nltk_data]     C:\\Users\\kavan\\AppData\\Roaming\\nltk_data...\n",
      "[nltk_data]   Package stopwords is already up-to-date!\n"
     ]
    },
    {
     "data": {
      "text/plain": [
       "True"
      ]
     },
     "execution_count": 14,
     "metadata": {},
     "output_type": "execute_result"
    }
   ],
   "source": [
    "nltk.download('stopwords')"
   ]
  },
  {
   "cell_type": "code",
   "execution_count": 15,
   "id": "c89f5bbf-7514-483b-a70c-64152afd71d6",
   "metadata": {},
   "outputs": [],
   "source": [
    "stop_words = set(stopwords.words('english'))"
   ]
  },
  {
   "cell_type": "code",
   "execution_count": 16,
   "id": "ddab80ce-e86b-47d8-a2c2-d990408b0fd4",
   "metadata": {},
   "outputs": [],
   "source": [
    "filtered_document = [word for word in tokenized_document if word.lower() not in stop_words]"
   ]
  },
  {
   "cell_type": "code",
   "execution_count": 17,
   "id": "ef5c2e89-f739-47e9-b2f9-8d746180b546",
   "metadata": {
    "scrolled": true
   },
   "outputs": [
    {
     "data": {
      "text/plain": [
       "['Mahatma',\n",
       " 'Gandhi',\n",
       " 'played',\n",
       " 'crucial',\n",
       " 'role',\n",
       " 'India',\n",
       " \"'s\",\n",
       " 'fight',\n",
       " 'freedom',\n",
       " 'British',\n",
       " 'rule',\n",
       " '.',\n",
       " 'life',\n",
       " 'dedicated',\n",
       " 'serving',\n",
       " 'country',\n",
       " 'people',\n",
       " ',',\n",
       " 'became',\n",
       " 'international',\n",
       " 'symbol',\n",
       " 'Indian',\n",
       " 'leadership',\n",
       " '.',\n",
       " 'Even',\n",
       " 'today',\n",
       " ',',\n",
       " 'continues',\n",
       " 'inspire',\n",
       " 'motivate',\n",
       " 'young',\n",
       " 'people',\n",
       " 'worldwide',\n",
       " 'values',\n",
       " 'principles',\n",
       " '.']"
      ]
     },
     "execution_count": 17,
     "metadata": {},
     "output_type": "execute_result"
    }
   ],
   "source": [
    "filtered_document"
   ]
  },
  {
   "cell_type": "code",
   "execution_count": 18,
   "id": "462ab5d8-f8d4-4337-ab48-6c55d868e856",
   "metadata": {
    "scrolled": true
   },
   "outputs": [
    {
     "name": "stdout",
     "output_type": "stream",
     "text": [
      "TF: 0.017857142857142856, Mahatma\n",
      "TF: 0.017857142857142856, Gandhi\n",
      "TF: 0.017857142857142856, played\n",
      "TF: 0.017857142857142856, a\n",
      "TF: 0.017857142857142856, crucial\n",
      "TF: 0.017857142857142856, role\n",
      "TF: 0.017857142857142856, in\n",
      "TF: 0.017857142857142856, India\n",
      "TF: 0.017857142857142856, 's\n",
      "TF: 0.017857142857142856, fight\n",
      "TF: 0.017857142857142856, for\n",
      "TF: 0.017857142857142856, freedom\n",
      "TF: 0.017857142857142856, from\n",
      "TF: 0.017857142857142856, British\n",
      "TF: 0.017857142857142856, rule\n",
      "TF: 0.05357142857142857, .\n",
      "TF: 0.017857142857142856, His\n",
      "TF: 0.017857142857142856, life\n",
      "TF: 0.017857142857142856, was\n",
      "TF: 0.017857142857142856, dedicated\n",
      "TF: 0.03571428571428571, to\n",
      "TF: 0.017857142857142856, serving\n",
      "TF: 0.03571428571428571, his\n",
      "TF: 0.017857142857142856, country\n",
      "TF: 0.07142857142857142, and\n",
      "TF: 0.017857142857142856, its\n",
      "TF: 0.03571428571428571, people\n",
      "TF: 0.03571428571428571, ,\n",
      "TF: 0.03571428571428571, he\n",
      "TF: 0.017857142857142856, became\n",
      "TF: 0.017857142857142856, an\n",
      "TF: 0.017857142857142856, international\n",
      "TF: 0.017857142857142856, symbol\n",
      "TF: 0.017857142857142856, of\n",
      "TF: 0.017857142857142856, Indian\n",
      "TF: 0.017857142857142856, leadership\n",
      "TF: 0.017857142857142856, Even\n",
      "TF: 0.017857142857142856, today\n",
      "TF: 0.017857142857142856, continues\n",
      "TF: 0.017857142857142856, inspire\n",
      "TF: 0.017857142857142856, motivate\n",
      "TF: 0.017857142857142856, young\n",
      "TF: 0.017857142857142856, worldwide\n",
      "TF: 0.017857142857142856, with\n",
      "TF: 0.017857142857142856, values\n",
      "TF: 0.017857142857142856, principles\n"
     ]
    }
   ],
   "source": [
    "word_counts = {}\n",
    "total_words = len(tokenized_document)\n",
    "\n",
    "for word in tokenized_document:\n",
    "    word_counts[word] = word_counts.get(word, 0) + 1\n",
    "\n",
    "# Calculating TF\n",
    "tf = {}\n",
    "for word, count in word_counts.items():\n",
    "    tf[word] = count / total_words\n",
    "\n",
    "for word, tf_value in tf.items():\n",
    "    print(f\"TF: {tf_value}, {word}\")"
   ]
  },
  {
   "cell_type": "code",
   "execution_count": 19,
   "id": "a5737a9f-ae25-4e90-aee4-40d7e4971731",
   "metadata": {
    "scrolled": true
   },
   "outputs": [
    {
     "data": {
      "text/plain": [
       "{'Mahatma': 0.017857142857142856,\n",
       " 'Gandhi': 0.017857142857142856,\n",
       " 'played': 0.017857142857142856,\n",
       " 'a': 0.017857142857142856,\n",
       " 'crucial': 0.017857142857142856,\n",
       " 'role': 0.017857142857142856,\n",
       " 'in': 0.017857142857142856,\n",
       " 'India': 0.017857142857142856,\n",
       " \"'s\": 0.017857142857142856,\n",
       " 'fight': 0.017857142857142856,\n",
       " 'for': 0.017857142857142856,\n",
       " 'freedom': 0.017857142857142856,\n",
       " 'from': 0.017857142857142856,\n",
       " 'British': 0.017857142857142856,\n",
       " 'rule': 0.017857142857142856,\n",
       " '.': 0.05357142857142857,\n",
       " 'His': 0.017857142857142856,\n",
       " 'life': 0.017857142857142856,\n",
       " 'was': 0.017857142857142856,\n",
       " 'dedicated': 0.017857142857142856,\n",
       " 'to': 0.03571428571428571,\n",
       " 'serving': 0.017857142857142856,\n",
       " 'his': 0.03571428571428571,\n",
       " 'country': 0.017857142857142856,\n",
       " 'and': 0.07142857142857142,\n",
       " 'its': 0.017857142857142856,\n",
       " 'people': 0.03571428571428571,\n",
       " ',': 0.03571428571428571,\n",
       " 'he': 0.03571428571428571,\n",
       " 'became': 0.017857142857142856,\n",
       " 'an': 0.017857142857142856,\n",
       " 'international': 0.017857142857142856,\n",
       " 'symbol': 0.017857142857142856,\n",
       " 'of': 0.017857142857142856,\n",
       " 'Indian': 0.017857142857142856,\n",
       " 'leadership': 0.017857142857142856,\n",
       " 'Even': 0.017857142857142856,\n",
       " 'today': 0.017857142857142856,\n",
       " 'continues': 0.017857142857142856,\n",
       " 'inspire': 0.017857142857142856,\n",
       " 'motivate': 0.017857142857142856,\n",
       " 'young': 0.017857142857142856,\n",
       " 'worldwide': 0.017857142857142856,\n",
       " 'with': 0.017857142857142856,\n",
       " 'values': 0.017857142857142856,\n",
       " 'principles': 0.017857142857142856}"
      ]
     },
     "execution_count": 19,
     "metadata": {},
     "output_type": "execute_result"
    }
   ],
   "source": [
    "tf"
   ]
  },
  {
   "cell_type": "code",
   "execution_count": 20,
   "id": "57c000a4-310d-4b6b-b55b-30317c789612",
   "metadata": {},
   "outputs": [],
   "source": [
    "from collections import defaultdict\n",
    "import heapq"
   ]
  },
  {
   "cell_type": "code",
   "execution_count": 21,
   "id": "9d26052d-08c7-42c5-a1ae-edd88d99bccd",
   "metadata": {},
   "outputs": [],
   "source": [
    "sentence_scores = defaultdict(float)"
   ]
  },
  {
   "cell_type": "code",
   "execution_count": 22,
   "id": "0a529fc0-1300-41ae-ace7-02ca14db2524",
   "metadata": {},
   "outputs": [],
   "source": [
    "sentences = []\n",
    "current_sentence = []\n",
    "for word in tokenized_document:\n",
    "    current_sentence.append(word)\n",
    "    if word.endswith('.') or word.endswith('!') or word.endswith('?'):\n",
    "        sentences.append(current_sentence)\n",
    "        current_sentence = []"
   ]
  },
  {
   "cell_type": "code",
   "execution_count": 23,
   "id": "b492e3b5-349a-4ed1-9728-d85496783061",
   "metadata": {},
   "outputs": [],
   "source": [
    "for sentence in sentences:\n",
    "    for word in sentence:\n",
    "        sentence_scores[tuple(sentence)] += tf.get(word, 0)"
   ]
  },
  {
   "cell_type": "code",
   "execution_count": 24,
   "id": "fe44aab4-22d2-4b00-92b1-c470c6aab053",
   "metadata": {
    "scrolled": true
   },
   "outputs": [
    {
     "data": {
      "text/plain": [
       "defaultdict(float,\n",
       "            {('Mahatma',\n",
       "              'Gandhi',\n",
       "              'played',\n",
       "              'a',\n",
       "              'crucial',\n",
       "              'role',\n",
       "              'in',\n",
       "              'India',\n",
       "              \"'s\",\n",
       "              'fight',\n",
       "              'for',\n",
       "              'freedom',\n",
       "              'from',\n",
       "              'British',\n",
       "              'rule',\n",
       "              '.'): 0.32142857142857134,\n",
       "             ('His',\n",
       "              'life',\n",
       "              'was',\n",
       "              'dedicated',\n",
       "              'to',\n",
       "              'serving',\n",
       "              'his',\n",
       "              'country',\n",
       "              'and',\n",
       "              'its',\n",
       "              'people',\n",
       "              ',',\n",
       "              'and',\n",
       "              'he',\n",
       "              'became',\n",
       "              'an',\n",
       "              'international',\n",
       "              'symbol',\n",
       "              'of',\n",
       "              'Indian',\n",
       "              'leadership',\n",
       "              '.'): 0.6250000000000001,\n",
       "             ('Even',\n",
       "              'today',\n",
       "              ',',\n",
       "              'he',\n",
       "              'continues',\n",
       "              'to',\n",
       "              'inspire',\n",
       "              'and',\n",
       "              'motivate',\n",
       "              'young',\n",
       "              'people',\n",
       "              'worldwide',\n",
       "              'with',\n",
       "              'his',\n",
       "              'values',\n",
       "              'and',\n",
       "              'principles',\n",
       "              '.'): 0.5535714285714285})"
      ]
     },
     "execution_count": 24,
     "metadata": {},
     "output_type": "execute_result"
    }
   ],
   "source": [
    "sentence_scores"
   ]
  },
  {
   "cell_type": "code",
   "execution_count": 25,
   "id": "587e0c13-74c8-40a5-af7e-47e5f8f93994",
   "metadata": {
    "scrolled": true
   },
   "outputs": [
    {
     "data": {
      "text/plain": [
       "['Even',\n",
       " 'today',\n",
       " ',',\n",
       " 'he',\n",
       " 'continues',\n",
       " 'to',\n",
       " 'inspire',\n",
       " 'and',\n",
       " 'motivate',\n",
       " 'young',\n",
       " 'people',\n",
       " 'worldwide',\n",
       " 'with',\n",
       " 'his',\n",
       " 'values',\n",
       " 'and',\n",
       " 'principles',\n",
       " '.']"
      ]
     },
     "execution_count": 25,
     "metadata": {},
     "output_type": "execute_result"
    }
   ],
   "source": [
    "sentence"
   ]
  },
  {
   "cell_type": "code",
   "execution_count": 26,
   "id": "22f53c6a-2c66-4632-b498-8ce44338c847",
   "metadata": {},
   "outputs": [],
   "source": [
    "num_sentences_in_summary = 4\n",
    "summary_sentences = heapq.nlargest(num_sentences_in_summary, sentence_scores, key=sentence_scores.get)"
   ]
  },
  {
   "cell_type": "code",
   "execution_count": 27,
   "id": "961eb2c3-fa5a-4982-b491-e21239c365ec",
   "metadata": {},
   "outputs": [],
   "source": [
    "summary = ' '.join(' '.join(sentence) for sentence in summary_sentences)"
   ]
  },
  {
   "cell_type": "code",
   "execution_count": 28,
   "id": "e0c0786c-93a2-41ce-8b0a-53718835c197",
   "metadata": {},
   "outputs": [
    {
     "data": {
      "text/plain": [
       "\"His life was dedicated to serving his country and its people , and he became an international symbol of Indian leadership . Even today , he continues to inspire and motivate young people worldwide with his values and principles . Mahatma Gandhi played a crucial role in India 's fight for freedom from British rule .\""
      ]
     },
     "execution_count": 28,
     "metadata": {},
     "output_type": "execute_result"
    }
   ],
   "source": [
    "summary"
   ]
  },
  {
   "cell_type": "code",
   "execution_count": 29,
   "id": "14dfdfd8-1c5e-4036-a625-ba32a1150324",
   "metadata": {},
   "outputs": [],
   "source": [
    "num_sentences_in_summary = 2\n",
    "summary_sentences = heapq.nlargest(num_sentences_in_summary, sentence_scores, key=sentence_scores.get)"
   ]
  },
  {
   "cell_type": "code",
   "execution_count": 30,
   "id": "446edc21-4607-46c5-9328-9eefd87eaa43",
   "metadata": {},
   "outputs": [],
   "source": [
    "summary = ' '.join(' '.join(sentence) for sentence in summary_sentences)"
   ]
  },
  {
   "cell_type": "code",
   "execution_count": 31,
   "id": "3c8e38ad-106b-4786-9fb9-707b6afdcad5",
   "metadata": {},
   "outputs": [
    {
     "data": {
      "text/plain": [
       "'His life was dedicated to serving his country and its people , and he became an international symbol of Indian leadership . Even today , he continues to inspire and motivate young people worldwide with his values and principles .'"
      ]
     },
     "execution_count": 31,
     "metadata": {},
     "output_type": "execute_result"
    }
   ],
   "source": [
    "summary"
   ]
  },
  {
   "cell_type": "code",
   "execution_count": null,
   "id": "ea5d2947-9992-423c-aa33-1c6202479b24",
   "metadata": {},
   "outputs": [],
   "source": []
  },
  {
   "cell_type": "markdown",
   "id": "7b0f4036-ba86-488f-afaf-2a94ee1a8adb",
   "metadata": {},
   "source": [
    "* calculating term frequency with sklearn"
   ]
  },
  {
   "cell_type": "code",
   "execution_count": 45,
   "id": "9bfeefd7-a1dd-4e62-a4ca-cedfec8993cc",
   "metadata": {},
   "outputs": [],
   "source": [
    "from nltk.probability import FreqDist\n",
    "word_freq = FreqDist(filtered_document)"
   ]
  },
  {
   "cell_type": "code",
   "execution_count": 46,
   "id": "1122a2df-b9f0-4190-9661-c95e9a15f2dc",
   "metadata": {},
   "outputs": [
    {
     "name": "stdout",
     "output_type": "stream",
     "text": [
      " Mahatma: 1\n",
      " Gandhi: 1\n",
      " played: 1\n",
      " crucial: 1\n",
      " role: 1\n",
      " India: 1\n",
      " 's: 1\n",
      " fight: 1\n",
      " freedom: 1\n",
      " British: 1\n",
      " rule: 1\n",
      " .: 3\n",
      " life: 1\n",
      " dedicated: 1\n",
      " serving: 1\n",
      " country: 1\n",
      " people: 2\n",
      " ,: 2\n",
      " became: 1\n",
      " international: 1\n",
      " symbol: 1\n",
      " Indian: 1\n",
      " leadership: 1\n",
      " Even: 1\n",
      " today: 1\n",
      " continues: 1\n",
      " inspire: 1\n",
      " motivate: 1\n",
      " young: 1\n",
      " worldwide: 1\n",
      " values: 1\n",
      " principles: 1\n"
     ]
    }
   ],
   "source": [
    "for word, freq in word_freq.items():\n",
    "    print(f\" {word}: {freq}\")"
   ]
  },
  {
   "cell_type": "code",
   "execution_count": 47,
   "id": "fc0cb9dd-7bbd-4537-bfa1-811a5c14bc94",
   "metadata": {},
   "outputs": [],
   "source": [
    "for sentence in sentences:\n",
    "    for word in sentence:\n",
    "        sentence_scores[tuple(sentence)] += word_freq.get(word, 0)"
   ]
  },
  {
   "cell_type": "code",
   "execution_count": 48,
   "id": "55a995ab-322b-4420-b5a8-7e8ac484fe68",
   "metadata": {
    "scrolled": true
   },
   "outputs": [
    {
     "data": {
      "text/plain": [
       "defaultdict(float,\n",
       "            {('Mahatma',\n",
       "              'Gandhi',\n",
       "              'played',\n",
       "              'a',\n",
       "              'crucial',\n",
       "              'role',\n",
       "              'in',\n",
       "              'India',\n",
       "              \"'s\",\n",
       "              'fight',\n",
       "              'for',\n",
       "              'freedom',\n",
       "              'from',\n",
       "              'British',\n",
       "              'rule',\n",
       "              '.'): 14.321428571428571,\n",
       "             ('His',\n",
       "              'life',\n",
       "              'was',\n",
       "              'dedicated',\n",
       "              'to',\n",
       "              'serving',\n",
       "              'his',\n",
       "              'country',\n",
       "              'and',\n",
       "              'its',\n",
       "              'people',\n",
       "              ',',\n",
       "              'and',\n",
       "              'he',\n",
       "              'became',\n",
       "              'an',\n",
       "              'international',\n",
       "              'symbol',\n",
       "              'of',\n",
       "              'Indian',\n",
       "              'leadership',\n",
       "              '.'): 16.625,\n",
       "             ('Even',\n",
       "              'today',\n",
       "              ',',\n",
       "              'he',\n",
       "              'continues',\n",
       "              'to',\n",
       "              'inspire',\n",
       "              'and',\n",
       "              'motivate',\n",
       "              'young',\n",
       "              'people',\n",
       "              'worldwide',\n",
       "              'with',\n",
       "              'his',\n",
       "              'values',\n",
       "              'and',\n",
       "              'principles',\n",
       "              '.'): 16.55357142857143})"
      ]
     },
     "execution_count": 48,
     "metadata": {},
     "output_type": "execute_result"
    }
   ],
   "source": [
    "sentence_scores"
   ]
  },
  {
   "cell_type": "code",
   "execution_count": 49,
   "id": "12f1545f-cd4a-4e97-b0d6-566f1e5b5392",
   "metadata": {},
   "outputs": [],
   "source": [
    "num_sentences_in_summary = 2\n",
    "summary_sentences = heapq.nlargest(num_sentences_in_summary, sentence_scores, key=sentence_scores.get)"
   ]
  },
  {
   "cell_type": "code",
   "execution_count": 50,
   "id": "cd5f6bdd-ce3f-454f-af52-7f294bd89161",
   "metadata": {},
   "outputs": [],
   "source": [
    "summary = ' '.join(' '.join(sentence) for sentence in summary_sentences)"
   ]
  },
  {
   "cell_type": "code",
   "execution_count": 51,
   "id": "312f9f50-669a-428c-9d16-d7339635bf06",
   "metadata": {},
   "outputs": [
    {
     "data": {
      "text/plain": [
       "'His life was dedicated to serving his country and its people , and he became an international symbol of Indian leadership . Even today , he continues to inspire and motivate young people worldwide with his values and principles .'"
      ]
     },
     "execution_count": 51,
     "metadata": {},
     "output_type": "execute_result"
    }
   ],
   "source": [
    "summary"
   ]
  }
 ],
 "metadata": {
  "kernelspec": {
   "display_name": "Python 3 (ipykernel)",
   "language": "python",
   "name": "python3"
  },
  "language_info": {
   "codemirror_mode": {
    "name": "ipython",
    "version": 3
   },
   "file_extension": ".py",
   "mimetype": "text/x-python",
   "name": "python",
   "nbconvert_exporter": "python",
   "pygments_lexer": "ipython3",
   "version": "3.11.5"
  }
 },
 "nbformat": 4,
 "nbformat_minor": 5
}
