{
 "cells": [
  {
   "cell_type": "markdown",
   "id": "1b4553b1",
   "metadata": {},
   "source": [
    "## Textblob"
   ]
  },
  {
   "cell_type": "code",
   "execution_count": 1,
   "id": "d91e060d",
   "metadata": {},
   "outputs": [
    {
     "name": "stderr",
     "output_type": "stream",
     "text": [
      "[nltk_data] Downloading package punkt to\n",
      "[nltk_data]     C:\\Users\\kavan\\AppData\\Roaming\\nltk_data...\n",
      "[nltk_data]   Package punkt is already up-to-date!\n"
     ]
    },
    {
     "data": {
      "text/plain": [
       "True"
      ]
     },
     "execution_count": 1,
     "metadata": {},
     "output_type": "execute_result"
    }
   ],
   "source": [
    "import nltk\n",
    "nltk.download('punkt')"
   ]
  },
  {
   "cell_type": "code",
   "execution_count": 2,
   "id": "28247daa",
   "metadata": {},
   "outputs": [
    {
     "name": "stderr",
     "output_type": "stream",
     "text": [
      "[nltk_data] Downloading package averaged_perceptron_tagger to\n",
      "[nltk_data]     C:\\Users\\kavan\\AppData\\Roaming\\nltk_data...\n",
      "[nltk_data]   Package averaged_perceptron_tagger is already up-to-\n",
      "[nltk_data]       date!\n"
     ]
    },
    {
     "data": {
      "text/plain": [
       "True"
      ]
     },
     "execution_count": 2,
     "metadata": {},
     "output_type": "execute_result"
    }
   ],
   "source": [
    "nltk.download('averaged_perceptron_tagger')"
   ]
  },
  {
   "cell_type": "code",
   "execution_count": 3,
   "id": "ec599915",
   "metadata": {},
   "outputs": [],
   "source": [
    "from textblob import TextBlob"
   ]
  },
  {
   "cell_type": "code",
   "execution_count": 4,
   "id": "c7d2bc07",
   "metadata": {},
   "outputs": [],
   "source": [
    "text = '''\n",
    "In the quietude of the evening, as the sun dipped below the horizon, casting hues of orange and pink across the sky, I found myself strolling along the meandering path that led to a tranquil lakeside. The air was imbued with the gentle fragrance of blooming flowers, and a gentle breeze whispered through the leaves of the ancient trees that stood sentinel along the water's edge. Reflections of the fading daylight danced upon the rippling surface of the lake, creating a mesmerizing play of light and shadow.\n",
    "\n",
    "As I walked, I couldn't help but reflect on the tapestry of memories woven into the fabric of my life. Each step felt like a journey through time, retracing the footprints of moments both joyous and challenging. The distant calls of birds overhead and the rustling of leaves underfoot added a symphony of nature's melodies to my contemplative thoughts.\n",
    "\n",
    "At the heart of this serene sanctuary, I discovered a weathered bench nestled beneath the branches of a wise old willow tree. Its twisted limbs seemed to reach out in a gesture of silent invitation. With a sense of gratitude, I accepted the invitation and settled onto the bench, letting my gaze wander over the water's expanse.\n",
    "\n",
    "In that moment, surrounded by the harmonious beauty of nature, I found solace and a profound connection to the universe. It was as if the very essence of existence unfolded before me, revealing the intricate interplay of life's highs and lows, much like the ebb and flow of the gentle waves that lapped at the shore.\n",
    "\n",
    "As the stars began to emerge in the vast canvas of the evening sky, I realized that within the vastness of the cosmos, every individual story, every fleeting emotion, and every shared experience contributes to the cosmic dance of existence. And there, under the celestial canopy, I marveled at the infinite possibilities that lay ahead, like unwritten chapters in the grand novel of life.\n",
    "\n",
    "In the heart of the bustling city, amidst the symphony of honking horns and hurried footsteps, there lies a hidden oasis of tranquility. Tucked away from the frenetic pace of urban life, a quaint park emerges as a haven for those seeking respite from the daily grind. Towering trees with outstretched branches create a leafy canopy that gently filters the sunlight, casting dappled shadows on well-worn paths.\n",
    "\n",
    "As I entered this verdant retreat, the city's clamor faded into a distant murmur, replaced by the soothing sounds of rustling leaves and the distant melody of a singing bird. The air, heavy with the scent of blooming flowers, carried with it a sense of calm that enveloped me like a warm embrace. It was a sanctuary where time seemed to slow, allowing moments to unfold at their own leisurely pace.\n",
    "\n",
    "Winding trails led me deeper into the park, revealing pockets of natural beauty – a tranquil pond adorned with lily pads, a rustic wooden bridge that spanned a babbling brook, and clusters of vibrant wildflowers that swayed in the gentle breeze. Each step felt like a departure from the demands of the outside world, an immersion into a realm where nature's rhythms dictated the flow of existence.\n",
    "\n",
    "Seating myself on a weathered bench beneath the shade of an ancient oak tree, I became an observer of life's unfolding tableau. Children laughed and played on a nearby playground, their carefree exuberance a stark contrast to the measured pace of the elderly couple leisurely strolling hand in hand. A group of friends gathered on a patch of green, engaging in animated conversation that echoed with camaraderie.\n",
    "\n",
    "Time, it seemed, adopted a different cadence in this idyllic setting. It wasn't marked by the relentless ticking of a clock but rather by the shifting patterns of sunlight filtering through the leaves overhead. The world beyond the park's borders continued its ceaseless march, but within these green confines, a harmonious dance of nature and humanity unfolded.\n",
    "\n",
    "I marveled at the interconnectedness of all living things – the intricate web of relationships that bound the flora and fauna, the interconnected paths of animals and humans alike. Butterflies flitted from flower to flower, bees hummed in industrious pursuit of nectar, and the distant call of a songbird resonated through the air.\n",
    "\n",
    "In this microcosm of existence, the worries that had clung to my shoulders like burdens seemed to dissipate. The park, with its gentle symphony of nature and the mosaic of diverse lives converging within its borders, served as a reminder that life, in all its complexity, possessed an inherent beauty. It was a beauty that transcended the superficial concerns of the everyday, inviting contemplation and appreciation.\n",
    "\n",
    "As the sun began its descent, casting hues of amber and gold across the sky, I left the park with a renewed sense of purpose. The oasis of tranquility had served its purpose, offering a temporary refuge from the demands of the world. Armed with a newfound perspective, I rejoined the urban rhythm, grateful for the hidden haven that existed amidst the chaos, a place where the soul could find solace and rediscover the beauty woven into the fabric of life.\n",
    "'''"
   ]
  },
  {
   "cell_type": "markdown",
   "id": "0b079c35",
   "metadata": {},
   "source": [
    "* pos tagging"
   ]
  },
  {
   "cell_type": "code",
   "execution_count": 5,
   "id": "d2843877",
   "metadata": {},
   "outputs": [
    {
     "data": {
      "text/plain": [
       "[('In', 'IN'),\n",
       " ('the', 'DT'),\n",
       " ('quietude', 'NN'),\n",
       " ('of', 'IN'),\n",
       " ('the', 'DT'),\n",
       " ('evening', 'NN'),\n",
       " ('as', 'IN'),\n",
       " ('the', 'DT'),\n",
       " ('sun', 'NN'),\n",
       " ('dipped', 'VBD'),\n",
       " ('below', 'IN'),\n",
       " ('the', 'DT'),\n",
       " ('horizon', 'NN'),\n",
       " ('casting', 'VBG'),\n",
       " ('hues', 'NNS'),\n",
       " ('of', 'IN'),\n",
       " ('orange', 'NN'),\n",
       " ('and', 'CC'),\n",
       " ('pink', 'VB'),\n",
       " ('across', 'IN'),\n",
       " ('the', 'DT'),\n",
       " ('sky', 'NN'),\n",
       " ('I', 'PRP'),\n",
       " ('found', 'VBD'),\n",
       " ('myself', 'PRP'),\n",
       " ('strolling', 'VBG'),\n",
       " ('along', 'IN'),\n",
       " ('the', 'DT'),\n",
       " ('meandering', 'VBG'),\n",
       " ('path', 'NN'),\n",
       " ('that', 'WDT'),\n",
       " ('led', 'VBD'),\n",
       " ('to', 'TO'),\n",
       " ('a', 'DT'),\n",
       " ('tranquil', 'JJ'),\n",
       " ('lakeside', 'NN'),\n",
       " ('The', 'DT'),\n",
       " ('air', 'NN'),\n",
       " ('was', 'VBD'),\n",
       " ('imbued', 'VBN'),\n",
       " ('with', 'IN'),\n",
       " ('the', 'DT'),\n",
       " ('gentle', 'JJ'),\n",
       " ('fragrance', 'NN'),\n",
       " ('of', 'IN'),\n",
       " ('blooming', 'VBG'),\n",
       " ('flowers', 'NNS'),\n",
       " ('and', 'CC'),\n",
       " ('a', 'DT'),\n",
       " ('gentle', 'JJ'),\n",
       " ('breeze', 'NN'),\n",
       " ('whispered', 'VBD'),\n",
       " ('through', 'IN'),\n",
       " ('the', 'DT'),\n",
       " ('leaves', 'NNS'),\n",
       " ('of', 'IN'),\n",
       " ('the', 'DT'),\n",
       " ('ancient', 'NN'),\n",
       " ('trees', 'NNS'),\n",
       " ('that', 'WDT'),\n",
       " ('stood', 'VBD'),\n",
       " ('sentinel', 'NNS'),\n",
       " ('along', 'IN'),\n",
       " ('the', 'DT'),\n",
       " ('water', 'NN'),\n",
       " (\"'s\", 'POS'),\n",
       " ('edge', 'NN'),\n",
       " ('Reflections', 'NNS'),\n",
       " ('of', 'IN'),\n",
       " ('the', 'DT'),\n",
       " ('fading', 'NN'),\n",
       " ('daylight', 'NN'),\n",
       " ('danced', 'VBD'),\n",
       " ('upon', 'IN'),\n",
       " ('the', 'DT'),\n",
       " ('rippling', 'VBG'),\n",
       " ('surface', 'NN'),\n",
       " ('of', 'IN'),\n",
       " ('the', 'DT'),\n",
       " ('lake', 'NN'),\n",
       " ('creating', 'VBG'),\n",
       " ('a', 'DT'),\n",
       " ('mesmerizing', 'JJ'),\n",
       " ('play', 'NN'),\n",
       " ('of', 'IN'),\n",
       " ('light', 'NN'),\n",
       " ('and', 'CC'),\n",
       " ('shadow', 'NN'),\n",
       " ('As', 'IN'),\n",
       " ('I', 'PRP'),\n",
       " ('walked', 'VBD'),\n",
       " ('I', 'PRP'),\n",
       " ('could', 'MD'),\n",
       " (\"n't\", 'RB'),\n",
       " ('help', 'VB'),\n",
       " ('but', 'CC'),\n",
       " ('reflect', 'VB'),\n",
       " ('on', 'IN'),\n",
       " ('the', 'DT'),\n",
       " ('tapestry', 'NN'),\n",
       " ('of', 'IN'),\n",
       " ('memories', 'NNS'),\n",
       " ('woven', 'VBN'),\n",
       " ('into', 'IN'),\n",
       " ('the', 'DT'),\n",
       " ('fabric', 'NN'),\n",
       " ('of', 'IN'),\n",
       " ('my', 'PRP$'),\n",
       " ('life', 'NN'),\n",
       " ('Each', 'DT'),\n",
       " ('step', 'NN'),\n",
       " ('felt', 'VBD'),\n",
       " ('like', 'IN'),\n",
       " ('a', 'DT'),\n",
       " ('journey', 'NN'),\n",
       " ('through', 'IN'),\n",
       " ('time', 'NN'),\n",
       " ('retracing', 'VBG'),\n",
       " ('the', 'DT'),\n",
       " ('footprints', 'NNS'),\n",
       " ('of', 'IN'),\n",
       " ('moments', 'NNS'),\n",
       " ('both', 'DT'),\n",
       " ('joyous', 'JJ'),\n",
       " ('and', 'CC'),\n",
       " ('challenging', 'NN'),\n",
       " ('The', 'DT'),\n",
       " ('distant', 'JJ'),\n",
       " ('calls', 'NNS'),\n",
       " ('of', 'IN'),\n",
       " ('birds', 'NNS'),\n",
       " ('overhead', 'JJ'),\n",
       " ('and', 'CC'),\n",
       " ('the', 'DT'),\n",
       " ('rustling', 'NN'),\n",
       " ('of', 'IN'),\n",
       " ('leaves', 'NNS'),\n",
       " ('underfoot', 'VBP'),\n",
       " ('added', 'VBD'),\n",
       " ('a', 'DT'),\n",
       " ('symphony', 'NN'),\n",
       " ('of', 'IN'),\n",
       " ('nature', 'NN'),\n",
       " (\"'s\", 'POS'),\n",
       " ('melodies', 'NNS'),\n",
       " ('to', 'TO'),\n",
       " ('my', 'PRP$'),\n",
       " ('contemplative', 'JJ'),\n",
       " ('thoughts', 'NNS'),\n",
       " ('At', 'IN'),\n",
       " ('the', 'DT'),\n",
       " ('heart', 'NN'),\n",
       " ('of', 'IN'),\n",
       " ('this', 'DT'),\n",
       " ('serene', 'JJ'),\n",
       " ('sanctuary', 'NN'),\n",
       " ('I', 'PRP'),\n",
       " ('discovered', 'VBD'),\n",
       " ('a', 'DT'),\n",
       " ('weathered', 'JJ'),\n",
       " ('bench', 'NN'),\n",
       " ('nestled', 'VBD'),\n",
       " ('beneath', 'IN'),\n",
       " ('the', 'DT'),\n",
       " ('branches', 'NNS'),\n",
       " ('of', 'IN'),\n",
       " ('a', 'DT'),\n",
       " ('wise', 'NN'),\n",
       " ('old', 'JJ'),\n",
       " ('willow', 'JJ'),\n",
       " ('tree', 'NN'),\n",
       " ('Its', 'PRP$'),\n",
       " ('twisted', 'JJ'),\n",
       " ('limbs', 'NNS'),\n",
       " ('seemed', 'VBD'),\n",
       " ('to', 'TO'),\n",
       " ('reach', 'VB'),\n",
       " ('out', 'RP'),\n",
       " ('in', 'IN'),\n",
       " ('a', 'DT'),\n",
       " ('gesture', 'NN'),\n",
       " ('of', 'IN'),\n",
       " ('silent', 'JJ'),\n",
       " ('invitation', 'NN'),\n",
       " ('With', 'IN'),\n",
       " ('a', 'DT'),\n",
       " ('sense', 'NN'),\n",
       " ('of', 'IN'),\n",
       " ('gratitude', 'NN'),\n",
       " ('I', 'PRP'),\n",
       " ('accepted', 'VBD'),\n",
       " ('the', 'DT'),\n",
       " ('invitation', 'NN'),\n",
       " ('and', 'CC'),\n",
       " ('settled', 'VBD'),\n",
       " ('onto', 'IN'),\n",
       " ('the', 'DT'),\n",
       " ('bench', 'NN'),\n",
       " ('letting', 'VBG'),\n",
       " ('my', 'PRP$'),\n",
       " ('gaze', 'NN'),\n",
       " ('wander', 'NN'),\n",
       " ('over', 'IN'),\n",
       " ('the', 'DT'),\n",
       " ('water', 'NN'),\n",
       " (\"'s\", 'POS'),\n",
       " ('expanse', 'NN'),\n",
       " ('In', 'IN'),\n",
       " ('that', 'DT'),\n",
       " ('moment', 'NN'),\n",
       " ('surrounded', 'VBN'),\n",
       " ('by', 'IN'),\n",
       " ('the', 'DT'),\n",
       " ('harmonious', 'JJ'),\n",
       " ('beauty', 'NN'),\n",
       " ('of', 'IN'),\n",
       " ('nature', 'NN'),\n",
       " ('I', 'PRP'),\n",
       " ('found', 'VBD'),\n",
       " ('solace', 'NN'),\n",
       " ('and', 'CC'),\n",
       " ('a', 'DT'),\n",
       " ('profound', 'JJ'),\n",
       " ('connection', 'NN'),\n",
       " ('to', 'TO'),\n",
       " ('the', 'DT'),\n",
       " ('universe', 'NN'),\n",
       " ('It', 'PRP'),\n",
       " ('was', 'VBD'),\n",
       " ('as', 'IN'),\n",
       " ('if', 'IN'),\n",
       " ('the', 'DT'),\n",
       " ('very', 'RB'),\n",
       " ('essence', 'NN'),\n",
       " ('of', 'IN'),\n",
       " ('existence', 'NN'),\n",
       " ('unfolded', 'VBN'),\n",
       " ('before', 'IN'),\n",
       " ('me', 'PRP'),\n",
       " ('revealing', 'VBG'),\n",
       " ('the', 'DT'),\n",
       " ('intricate', 'JJ'),\n",
       " ('interplay', 'NN'),\n",
       " ('of', 'IN'),\n",
       " ('life', 'NN'),\n",
       " (\"'s\", 'POS'),\n",
       " ('highs', 'NNS'),\n",
       " ('and', 'CC'),\n",
       " ('lows', 'NNS'),\n",
       " ('much', 'RB'),\n",
       " ('like', 'IN'),\n",
       " ('the', 'DT'),\n",
       " ('ebb', 'NN'),\n",
       " ('and', 'CC'),\n",
       " ('flow', 'NN'),\n",
       " ('of', 'IN'),\n",
       " ('the', 'DT'),\n",
       " ('gentle', 'JJ'),\n",
       " ('waves', 'NNS'),\n",
       " ('that', 'WDT'),\n",
       " ('lapped', 'VBD'),\n",
       " ('at', 'IN'),\n",
       " ('the', 'DT'),\n",
       " ('shore', 'NN'),\n",
       " ('As', 'IN'),\n",
       " ('the', 'DT'),\n",
       " ('stars', 'NNS'),\n",
       " ('began', 'VBD'),\n",
       " ('to', 'TO'),\n",
       " ('emerge', 'VB'),\n",
       " ('in', 'IN'),\n",
       " ('the', 'DT'),\n",
       " ('vast', 'JJ'),\n",
       " ('canvas', 'NN'),\n",
       " ('of', 'IN'),\n",
       " ('the', 'DT'),\n",
       " ('evening', 'NN'),\n",
       " ('sky', 'NN'),\n",
       " ('I', 'PRP'),\n",
       " ('realized', 'VBD'),\n",
       " ('that', 'IN'),\n",
       " ('within', 'IN'),\n",
       " ('the', 'DT'),\n",
       " ('vastness', 'NN'),\n",
       " ('of', 'IN'),\n",
       " ('the', 'DT'),\n",
       " ('cosmos', 'NN'),\n",
       " ('every', 'DT'),\n",
       " ('individual', 'JJ'),\n",
       " ('story', 'NN'),\n",
       " ('every', 'DT'),\n",
       " ('fleeting', 'NN'),\n",
       " ('emotion', 'NN'),\n",
       " ('and', 'CC'),\n",
       " ('every', 'DT'),\n",
       " ('shared', 'VBN'),\n",
       " ('experience', 'NN'),\n",
       " ('contributes', 'NNS'),\n",
       " ('to', 'TO'),\n",
       " ('the', 'DT'),\n",
       " ('cosmic', 'JJ'),\n",
       " ('dance', 'NN'),\n",
       " ('of', 'IN'),\n",
       " ('existence', 'NN'),\n",
       " ('And', 'CC'),\n",
       " ('there', 'RB'),\n",
       " ('under', 'IN'),\n",
       " ('the', 'DT'),\n",
       " ('celestial', 'JJ'),\n",
       " ('canopy', 'NN'),\n",
       " ('I', 'PRP'),\n",
       " ('marveled', 'VBD'),\n",
       " ('at', 'IN'),\n",
       " ('the', 'DT'),\n",
       " ('infinite', 'JJ'),\n",
       " ('possibilities', 'NNS'),\n",
       " ('that', 'WDT'),\n",
       " ('lay', 'VBP'),\n",
       " ('ahead', 'RB'),\n",
       " ('like', 'IN'),\n",
       " ('unwritten', 'JJ'),\n",
       " ('chapters', 'NNS'),\n",
       " ('in', 'IN'),\n",
       " ('the', 'DT'),\n",
       " ('grand', 'JJ'),\n",
       " ('novel', 'NN'),\n",
       " ('of', 'IN'),\n",
       " ('life', 'NN'),\n",
       " ('In', 'IN'),\n",
       " ('the', 'DT'),\n",
       " ('heart', 'NN'),\n",
       " ('of', 'IN'),\n",
       " ('the', 'DT'),\n",
       " ('bustling', 'NN'),\n",
       " ('city', 'NN'),\n",
       " ('amidst', 'VBP'),\n",
       " ('the', 'DT'),\n",
       " ('symphony', 'NN'),\n",
       " ('of', 'IN'),\n",
       " ('honking', 'VBG'),\n",
       " ('horns', 'NNS'),\n",
       " ('and', 'CC'),\n",
       " ('hurried', 'JJ'),\n",
       " ('footsteps', 'NNS'),\n",
       " ('there', 'EX'),\n",
       " ('lies', 'VBZ'),\n",
       " ('a', 'DT'),\n",
       " ('hidden', 'JJ'),\n",
       " ('oasis', 'NN'),\n",
       " ('of', 'IN'),\n",
       " ('tranquility', 'NN'),\n",
       " ('Tucked', 'VBN'),\n",
       " ('away', 'RB'),\n",
       " ('from', 'IN'),\n",
       " ('the', 'DT'),\n",
       " ('frenetic', 'JJ'),\n",
       " ('pace', 'NN'),\n",
       " ('of', 'IN'),\n",
       " ('urban', 'JJ'),\n",
       " ('life', 'NN'),\n",
       " ('a', 'DT'),\n",
       " ('quaint', 'NN'),\n",
       " ('park', 'NN'),\n",
       " ('emerges', 'VBZ'),\n",
       " ('as', 'IN'),\n",
       " ('a', 'DT'),\n",
       " ('haven', 'NN'),\n",
       " ('for', 'IN'),\n",
       " ('those', 'DT'),\n",
       " ('seeking', 'VBG'),\n",
       " ('respite', 'NN'),\n",
       " ('from', 'IN'),\n",
       " ('the', 'DT'),\n",
       " ('daily', 'JJ'),\n",
       " ('grind', 'NN'),\n",
       " ('Towering', 'VBG'),\n",
       " ('trees', 'NNS'),\n",
       " ('with', 'IN'),\n",
       " ('outstretched', 'JJ'),\n",
       " ('branches', 'NNS'),\n",
       " ('create', 'VBP'),\n",
       " ('a', 'DT'),\n",
       " ('leafy', 'JJ'),\n",
       " ('canopy', 'NN'),\n",
       " ('that', 'WDT'),\n",
       " ('gently', 'RB'),\n",
       " ('filters', 'VBZ'),\n",
       " ('the', 'DT'),\n",
       " ('sunlight', 'NN'),\n",
       " ('casting', 'VBG'),\n",
       " ('dappled', 'VBN'),\n",
       " ('shadows', 'NNS'),\n",
       " ('on', 'IN'),\n",
       " ('well-worn', 'JJ'),\n",
       " ('paths', 'NNS'),\n",
       " ('As', 'IN'),\n",
       " ('I', 'PRP'),\n",
       " ('entered', 'VBD'),\n",
       " ('this', 'DT'),\n",
       " ('verdant', 'JJ'),\n",
       " ('retreat', 'NN'),\n",
       " ('the', 'DT'),\n",
       " ('city', 'NN'),\n",
       " (\"'s\", 'POS'),\n",
       " ('clamor', 'NN'),\n",
       " ('faded', 'VBD'),\n",
       " ('into', 'IN'),\n",
       " ('a', 'DT'),\n",
       " ('distant', 'JJ'),\n",
       " ('murmur', 'NN'),\n",
       " ('replaced', 'VBN'),\n",
       " ('by', 'IN'),\n",
       " ('the', 'DT'),\n",
       " ('soothing', 'JJ'),\n",
       " ('sounds', 'NNS'),\n",
       " ('of', 'IN'),\n",
       " ('rustling', 'VBG'),\n",
       " ('leaves', 'NNS'),\n",
       " ('and', 'CC'),\n",
       " ('the', 'DT'),\n",
       " ('distant', 'JJ'),\n",
       " ('melody', 'NN'),\n",
       " ('of', 'IN'),\n",
       " ('a', 'DT'),\n",
       " ('singing', 'JJ'),\n",
       " ('bird', 'NN'),\n",
       " ('The', 'DT'),\n",
       " ('air', 'NN'),\n",
       " ('heavy', 'JJ'),\n",
       " ('with', 'IN'),\n",
       " ('the', 'DT'),\n",
       " ('scent', 'NN'),\n",
       " ('of', 'IN'),\n",
       " ('blooming', 'VBG'),\n",
       " ('flowers', 'NNS'),\n",
       " ('carried', 'VBD'),\n",
       " ('with', 'IN'),\n",
       " ('it', 'PRP'),\n",
       " ('a', 'DT'),\n",
       " ('sense', 'NN'),\n",
       " ('of', 'IN'),\n",
       " ('calm', 'NN'),\n",
       " ('that', 'WDT'),\n",
       " ('enveloped', 'VBD'),\n",
       " ('me', 'PRP'),\n",
       " ('like', 'IN'),\n",
       " ('a', 'DT'),\n",
       " ('warm', 'JJ'),\n",
       " ('embrace', 'NN'),\n",
       " ('It', 'PRP'),\n",
       " ('was', 'VBD'),\n",
       " ('a', 'DT'),\n",
       " ('sanctuary', 'JJ'),\n",
       " ('where', 'WRB'),\n",
       " ('time', 'NN'),\n",
       " ('seemed', 'VBD'),\n",
       " ('to', 'TO'),\n",
       " ('slow', 'VB'),\n",
       " ('allowing', 'VBG'),\n",
       " ('moments', 'NNS'),\n",
       " ('to', 'TO'),\n",
       " ('unfold', 'VB'),\n",
       " ('at', 'IN'),\n",
       " ('their', 'PRP$'),\n",
       " ('own', 'JJ'),\n",
       " ('leisurely', 'RB'),\n",
       " ('pace', 'NN'),\n",
       " ('Winding', 'VBG'),\n",
       " ('trails', 'NNS'),\n",
       " ('led', 'VBD'),\n",
       " ('me', 'PRP'),\n",
       " ('deeper', 'JJR'),\n",
       " ('into', 'IN'),\n",
       " ('the', 'DT'),\n",
       " ('park', 'NN'),\n",
       " ('revealing', 'VBG'),\n",
       " ('pockets', 'NNS'),\n",
       " ('of', 'IN'),\n",
       " ('natural', 'JJ'),\n",
       " ('beauty', 'NN'),\n",
       " ('–', 'VBD'),\n",
       " ('a', 'DT'),\n",
       " ('tranquil', 'JJ'),\n",
       " ('pond', 'NN'),\n",
       " ('adorned', 'VBD'),\n",
       " ('with', 'IN'),\n",
       " ('lily', 'JJ'),\n",
       " ('pads', 'NNS'),\n",
       " ('a', 'DT'),\n",
       " ('rustic', 'JJ'),\n",
       " ('wooden', 'NN'),\n",
       " ('bridge', 'NN'),\n",
       " ('that', 'WDT'),\n",
       " ('spanned', 'VBD'),\n",
       " ('a', 'DT'),\n",
       " ('babbling', 'NN'),\n",
       " ('brook', 'NN'),\n",
       " ('and', 'CC'),\n",
       " ('clusters', 'NNS'),\n",
       " ('of', 'IN'),\n",
       " ('vibrant', 'JJ'),\n",
       " ('wildflowers', 'NNS'),\n",
       " ('that', 'WDT'),\n",
       " ('swayed', 'VBD'),\n",
       " ('in', 'IN'),\n",
       " ('the', 'DT'),\n",
       " ('gentle', 'JJ'),\n",
       " ('breeze', 'NN'),\n",
       " ('Each', 'DT'),\n",
       " ('step', 'NN'),\n",
       " ('felt', 'VBD'),\n",
       " ('like', 'IN'),\n",
       " ('a', 'DT'),\n",
       " ('departure', 'NN'),\n",
       " ('from', 'IN'),\n",
       " ('the', 'DT'),\n",
       " ('demands', 'NNS'),\n",
       " ('of', 'IN'),\n",
       " ('the', 'DT'),\n",
       " ('outside', 'JJ'),\n",
       " ('world', 'NN'),\n",
       " ('an', 'DT'),\n",
       " ('immersion', 'NN'),\n",
       " ('into', 'IN'),\n",
       " ('a', 'DT'),\n",
       " ('realm', 'NN'),\n",
       " ('where', 'WRB'),\n",
       " ('nature', 'NN'),\n",
       " (\"'s\", 'POS'),\n",
       " ('rhythms', 'NN'),\n",
       " ('dictated', 'VBD'),\n",
       " ('the', 'DT'),\n",
       " ('flow', 'NN'),\n",
       " ('of', 'IN'),\n",
       " ('existence', 'NN'),\n",
       " ('Seating', 'VBG'),\n",
       " ('myself', 'PRP'),\n",
       " ('on', 'IN'),\n",
       " ('a', 'DT'),\n",
       " ('weathered', 'JJ'),\n",
       " ('bench', 'NN'),\n",
       " ('beneath', 'IN'),\n",
       " ('the', 'DT'),\n",
       " ('shade', 'NN'),\n",
       " ('of', 'IN'),\n",
       " ('an', 'DT'),\n",
       " ('ancient', 'JJ'),\n",
       " ('oak', 'NN'),\n",
       " ('tree', 'NN'),\n",
       " ('I', 'PRP'),\n",
       " ('became', 'VBD'),\n",
       " ('an', 'DT'),\n",
       " ('observer', 'NN'),\n",
       " ('of', 'IN'),\n",
       " ('life', 'NN'),\n",
       " (\"'s\", 'POS'),\n",
       " ('unfolding', 'JJ'),\n",
       " ('tableau', 'NN'),\n",
       " ('Children', 'NNP'),\n",
       " ('laughed', 'VBD'),\n",
       " ('and', 'CC'),\n",
       " ('played', 'VBD'),\n",
       " ('on', 'IN'),\n",
       " ('a', 'DT'),\n",
       " ('nearby', 'JJ'),\n",
       " ('playground', 'NN'),\n",
       " ('their', 'PRP$'),\n",
       " ('carefree', 'JJ'),\n",
       " ('exuberance', 'NN'),\n",
       " ('a', 'DT'),\n",
       " ('stark', 'JJ'),\n",
       " ('contrast', 'NN'),\n",
       " ('to', 'TO'),\n",
       " ('the', 'DT'),\n",
       " ('measured', 'JJ'),\n",
       " ('pace', 'NN'),\n",
       " ('of', 'IN'),\n",
       " ('the', 'DT'),\n",
       " ('elderly', 'JJ'),\n",
       " ('couple', 'NN'),\n",
       " ('leisurely', 'RB'),\n",
       " ('strolling', 'VBG'),\n",
       " ('hand', 'NN'),\n",
       " ('in', 'IN'),\n",
       " ('hand', 'NN'),\n",
       " ('A', 'DT'),\n",
       " ('group', 'NN'),\n",
       " ('of', 'IN'),\n",
       " ('friends', 'NNS'),\n",
       " ('gathered', 'VBN'),\n",
       " ('on', 'IN'),\n",
       " ('a', 'DT'),\n",
       " ('patch', 'NN'),\n",
       " ('of', 'IN'),\n",
       " ('green', 'JJ'),\n",
       " ('engaging', 'VBG'),\n",
       " ('in', 'IN'),\n",
       " ('animated', 'JJ'),\n",
       " ('conversation', 'NN'),\n",
       " ('that', 'IN'),\n",
       " ('echoed', 'VBZ'),\n",
       " ('with', 'IN'),\n",
       " ('camaraderie', 'NN'),\n",
       " ('Time', 'NNP'),\n",
       " ('it', 'PRP'),\n",
       " ('seemed', 'VBD'),\n",
       " ('adopted', 'VBD'),\n",
       " ('a', 'DT'),\n",
       " ('different', 'JJ'),\n",
       " ('cadence', 'NN'),\n",
       " ('in', 'IN'),\n",
       " ('this', 'DT'),\n",
       " ('idyllic', 'JJ'),\n",
       " ('setting', 'NN'),\n",
       " ('It', 'PRP'),\n",
       " ('was', 'VBD'),\n",
       " (\"n't\", 'RB'),\n",
       " ('marked', 'VBN'),\n",
       " ('by', 'IN'),\n",
       " ('the', 'DT'),\n",
       " ('relentless', 'NN'),\n",
       " ('ticking', 'NN'),\n",
       " ('of', 'IN'),\n",
       " ('a', 'DT'),\n",
       " ('clock', 'NN'),\n",
       " ('but', 'CC'),\n",
       " ('rather', 'RB'),\n",
       " ('by', 'IN'),\n",
       " ('the', 'DT'),\n",
       " ('shifting', 'VBG'),\n",
       " ('patterns', 'NNS'),\n",
       " ('of', 'IN'),\n",
       " ('sunlight', 'NN'),\n",
       " ('filtering', 'VBG'),\n",
       " ('through', 'IN'),\n",
       " ('the', 'DT'),\n",
       " ('leaves', 'NNS'),\n",
       " ('overhead', 'VBP'),\n",
       " ('The', 'DT'),\n",
       " ('world', 'NN'),\n",
       " ('beyond', 'IN'),\n",
       " ('the', 'DT'),\n",
       " ('park', 'NN'),\n",
       " (\"'s\", 'POS'),\n",
       " ('borders', 'NNS'),\n",
       " ('continued', 'VBD'),\n",
       " ('its', 'PRP$'),\n",
       " ('ceaseless', 'NN'),\n",
       " ('march', 'NN'),\n",
       " ('but', 'CC'),\n",
       " ('within', 'IN'),\n",
       " ('these', 'DT'),\n",
       " ('green', 'JJ'),\n",
       " ('confines', 'NNS'),\n",
       " ('a', 'DT'),\n",
       " ('harmonious', 'JJ'),\n",
       " ('dance', 'NN'),\n",
       " ('of', 'IN'),\n",
       " ('nature', 'NN'),\n",
       " ('and', 'CC'),\n",
       " ('humanity', 'NN'),\n",
       " ('unfolded', 'VBD'),\n",
       " ('I', 'PRP'),\n",
       " ('marveled', 'VBD'),\n",
       " ('at', 'IN'),\n",
       " ('the', 'DT'),\n",
       " ('interconnectedness', 'NN'),\n",
       " ('of', 'IN'),\n",
       " ('all', 'DT'),\n",
       " ('living', 'JJ'),\n",
       " ('things', 'NNS'),\n",
       " ('–', 'VBP'),\n",
       " ('the', 'DT'),\n",
       " ('intricate', 'JJ'),\n",
       " ('web', 'NN'),\n",
       " ('of', 'IN'),\n",
       " ('relationships', 'NNS'),\n",
       " ('that', 'WDT'),\n",
       " ('bound', 'VBD'),\n",
       " ('the', 'DT'),\n",
       " ('flora', 'NNS'),\n",
       " ('and', 'CC'),\n",
       " ('fauna', 'NNS'),\n",
       " ('the', 'DT'),\n",
       " ('interconnected', 'JJ'),\n",
       " ('paths', 'NNS'),\n",
       " ('of', 'IN'),\n",
       " ('animals', 'NNS'),\n",
       " ('and', 'CC'),\n",
       " ('humans', 'NNS'),\n",
       " ('alike', 'RB'),\n",
       " ('Butterflies', 'NNS'),\n",
       " ('flitted', 'VBN'),\n",
       " ('from', 'IN'),\n",
       " ('flower', 'JJR'),\n",
       " ('to', 'TO'),\n",
       " ('flower', 'VB'),\n",
       " ('bees', 'NNS'),\n",
       " ('hummed', 'VBD'),\n",
       " ('in', 'IN'),\n",
       " ('industrious', 'JJ'),\n",
       " ('pursuit', 'NN'),\n",
       " ('of', 'IN'),\n",
       " ('nectar', 'NN'),\n",
       " ('and', 'CC'),\n",
       " ('the', 'DT'),\n",
       " ('distant', 'JJ'),\n",
       " ('call', 'NN'),\n",
       " ('of', 'IN'),\n",
       " ('a', 'DT'),\n",
       " ('songbird', 'NN'),\n",
       " ('resonated', 'VBN'),\n",
       " ('through', 'IN'),\n",
       " ('the', 'DT'),\n",
       " ('air', 'NN'),\n",
       " ('In', 'IN'),\n",
       " ('this', 'DT'),\n",
       " ('microcosm', 'NN'),\n",
       " ('of', 'IN'),\n",
       " ('existence', 'NN'),\n",
       " ('the', 'DT'),\n",
       " ('worries', 'NNS'),\n",
       " ('that', 'WDT'),\n",
       " ('had', 'VBD'),\n",
       " ('clung', 'NN'),\n",
       " ('to', 'TO'),\n",
       " ('my', 'PRP$'),\n",
       " ('shoulders', 'NNS'),\n",
       " ('like', 'IN'),\n",
       " ('burdens', 'NNS'),\n",
       " ('seemed', 'VBD'),\n",
       " ('to', 'TO'),\n",
       " ('dissipate', 'VB'),\n",
       " ('The', 'DT'),\n",
       " ('park', 'NN'),\n",
       " ('with', 'IN'),\n",
       " ('its', 'PRP$'),\n",
       " ('gentle', 'JJ'),\n",
       " ('symphony', 'NN'),\n",
       " ('of', 'IN'),\n",
       " ('nature', 'NN'),\n",
       " ('and', 'CC'),\n",
       " ('the', 'DT'),\n",
       " ('mosaic', 'NN'),\n",
       " ('of', 'IN'),\n",
       " ('diverse', 'JJ'),\n",
       " ('lives', 'NNS'),\n",
       " ('converging', 'VBG'),\n",
       " ('within', 'IN'),\n",
       " ('its', 'PRP$'),\n",
       " ('borders', 'NNS'),\n",
       " ('served', 'VBD'),\n",
       " ('as', 'IN'),\n",
       " ('a', 'DT'),\n",
       " ('reminder', 'NN'),\n",
       " ('that', 'WDT'),\n",
       " ('life', 'NN'),\n",
       " ('in', 'IN'),\n",
       " ('all', 'DT'),\n",
       " ('its', 'PRP$'),\n",
       " ('complexity', 'NN'),\n",
       " ('possessed', 'VBD'),\n",
       " ('an', 'DT'),\n",
       " ('inherent', 'JJ'),\n",
       " ('beauty', 'NN'),\n",
       " ('It', 'PRP'),\n",
       " ('was', 'VBD'),\n",
       " ('a', 'DT'),\n",
       " ('beauty', 'NN'),\n",
       " ('that', 'WDT'),\n",
       " ('transcended', 'VBD'),\n",
       " ('the', 'DT'),\n",
       " ('superficial', 'JJ'),\n",
       " ('concerns', 'NNS'),\n",
       " ('of', 'IN'),\n",
       " ('the', 'DT'),\n",
       " ('everyday', 'JJ'),\n",
       " ('inviting', 'VBG'),\n",
       " ('contemplation', 'NN'),\n",
       " ('and', 'CC'),\n",
       " ('appreciation', 'NN'),\n",
       " ('As', 'IN'),\n",
       " ('the', 'DT'),\n",
       " ('sun', 'NN'),\n",
       " ('began', 'VBD'),\n",
       " ('its', 'PRP$'),\n",
       " ('descent', 'NN'),\n",
       " ('casting', 'VBG'),\n",
       " ('hues', 'NNS'),\n",
       " ('of', 'IN'),\n",
       " ('amber', 'NN'),\n",
       " ('and', 'CC'),\n",
       " ('gold', 'NN'),\n",
       " ('across', 'IN'),\n",
       " ('the', 'DT'),\n",
       " ('sky', 'NN'),\n",
       " ('I', 'PRP'),\n",
       " ('left', 'VBD'),\n",
       " ('the', 'DT'),\n",
       " ('park', 'NN'),\n",
       " ('with', 'IN'),\n",
       " ('a', 'DT'),\n",
       " ('renewed', 'VBN'),\n",
       " ('sense', 'NN'),\n",
       " ('of', 'IN'),\n",
       " ('purpose', 'NN'),\n",
       " ('The', 'DT'),\n",
       " ('oasis', 'NN'),\n",
       " ('of', 'IN'),\n",
       " ('tranquility', 'NN'),\n",
       " ('had', 'VBD'),\n",
       " ('served', 'VBN'),\n",
       " ('its', 'PRP$'),\n",
       " ('purpose', 'NN'),\n",
       " ('offering', 'VBG'),\n",
       " ('a', 'DT'),\n",
       " ('temporary', 'JJ'),\n",
       " ('refuge', 'NN'),\n",
       " ('from', 'IN'),\n",
       " ('the', 'DT'),\n",
       " ('demands', 'NNS'),\n",
       " ('of', 'IN'),\n",
       " ('the', 'DT'),\n",
       " ('world', 'NN'),\n",
       " ('Armed', 'VBN'),\n",
       " ('with', 'IN'),\n",
       " ('a', 'DT'),\n",
       " ('newfound', 'JJ'),\n",
       " ('perspective', 'NN'),\n",
       " ('I', 'PRP'),\n",
       " ('rejoined', 'VBD'),\n",
       " ('the', 'DT'),\n",
       " ('urban', 'JJ'),\n",
       " ('rhythm', 'NN'),\n",
       " ('grateful', 'NN'),\n",
       " ('for', 'IN'),\n",
       " ('the', 'DT'),\n",
       " ('hidden', 'JJ'),\n",
       " ('haven', 'NN'),\n",
       " ('that', 'WDT'),\n",
       " ('existed', 'VBD'),\n",
       " ('amidst', 'PDT'),\n",
       " ('the', 'DT'),\n",
       " ('chaos', 'NN'),\n",
       " ('a', 'DT'),\n",
       " ('place', 'NN'),\n",
       " ('where', 'WRB'),\n",
       " ('the', 'DT'),\n",
       " ('soul', 'NN'),\n",
       " ('could', 'MD'),\n",
       " ('find', 'VB'),\n",
       " ('solace', 'NN'),\n",
       " ('and', 'CC'),\n",
       " ('rediscover', 'VB'),\n",
       " ('the', 'DT'),\n",
       " ('beauty', 'NN'),\n",
       " ('woven', 'RB'),\n",
       " ('into', 'IN'),\n",
       " ('the', 'DT'),\n",
       " ('fabric', 'NN'),\n",
       " ('of', 'IN'),\n",
       " ('life', 'NN')]"
      ]
     },
     "execution_count": 5,
     "metadata": {},
     "output_type": "execute_result"
    }
   ],
   "source": [
    "blob = TextBlob(text)\n",
    "blob.tags"
   ]
  },
  {
   "cell_type": "code",
   "execution_count": 6,
   "id": "e936a1ff",
   "metadata": {},
   "outputs": [
    {
     "name": "stderr",
     "output_type": "stream",
     "text": [
      "[nltk_data] Downloading package brown to\n",
      "[nltk_data]     C:\\Users\\kavan\\AppData\\Roaming\\nltk_data...\n",
      "[nltk_data]   Package brown is already up-to-date!\n"
     ]
    },
    {
     "data": {
      "text/plain": [
       "True"
      ]
     },
     "execution_count": 6,
     "metadata": {},
     "output_type": "execute_result"
    }
   ],
   "source": [
    "nltk.download('brown')"
   ]
  },
  {
   "cell_type": "markdown",
   "id": "c1b63a11",
   "metadata": {},
   "source": [
    "* Noun Phrase Extraction"
   ]
  },
  {
   "cell_type": "code",
   "execution_count": 7,
   "id": "aea326c9",
   "metadata": {},
   "outputs": [
    {
     "data": {
      "text/plain": [
       "WordList(['tranquil lakeside', 'gentle fragrance', 'gentle breeze', 'ancient trees', \"water 's edge\", 'reflections', 'memories woven', 'distant calls', 'leaves underfoot', \"nature 's melodies\", 'contemplative thoughts', 'serene sanctuary', 'old willow tree', 'silent invitation', 'gaze wander', \"water 's expanse\", 'harmonious beauty', 'profound connection', 'intricate interplay', \"life 's highs\", 'gentle waves', 'vast canvas', 'evening sky', 'individual story', 'experience contributes', 'cosmic dance', 'celestial canopy', 'infinite possibilities', 'unwritten chapters', 'grand novel', 'tucked', 'frenetic pace', 'urban life', 'quaint park', 'daily grind', 'towering', 'leafy canopy', 'well-worn paths', 'verdant retreat', \"city 's clamor\", 'distant murmur', 'distant melody', 'warm embrace', 'winding', 'natural beauty –', 'tranquil pond', 'vibrant wildflowers', 'gentle breeze', 'outside world', \"nature 's rhythms\", 'seating', 'ancient oak tree', \"life 's\", 'nearby playground', 'carefree exuberance', 'stark contrast', 'elderly couple', 'different cadence', 'idyllic setting', \"park 's\", 'ceaseless march', 'green confines', 'harmonious dance', 'things –', 'intricate web', 'butterflies', 'industrious pursuit', 'distant call', 'gentle symphony', 'inherent beauty', 'inviting contemplation', 'temporary refuge', 'newfound perspective', 'urban rhythm', 'beauty woven'])"
      ]
     },
     "execution_count": 7,
     "metadata": {},
     "output_type": "execute_result"
    }
   ],
   "source": [
    "blob.noun_phrases"
   ]
  },
  {
   "cell_type": "markdown",
   "id": "1406f148",
   "metadata": {},
   "source": [
    "* sentiment"
   ]
  },
  {
   "cell_type": "code",
   "execution_count": 8,
   "id": "13fccf25",
   "metadata": {},
   "outputs": [
    {
     "name": "stdout",
     "output_type": "stream",
     "text": [
      "-0.1\n",
      "0.2\n",
      "0.35\n",
      "0.0\n",
      "0.5\n",
      "-0.1\n",
      "0.39999999999999997\n",
      "-0.25\n",
      "0.0\n",
      "0.08333333333333333\n",
      "0.20000000000000004\n",
      "0.0\n",
      "0.5\n",
      "-0.16666666666666666\n",
      "0.0\n",
      "0.2\n",
      "-0.1\n",
      "0.2333333333333333\n",
      "0.14999999999999997\n",
      "0.11666666666666667\n",
      "0.0\n",
      "0.0\n",
      "0.24999999999999997\n",
      "0.1\n",
      "0.0\n",
      "0.1\n",
      "-0.15000000000000002\n",
      "0.0\n",
      "-0.1\n",
      "0.0\n",
      "0.2\n",
      "-0.2\n",
      "0.0\n",
      "0.0\n",
      "-0.08333333333333333\n"
     ]
    }
   ],
   "source": [
    "for sentence in blob.sentences:\n",
    "    print(sentence.sentiment.polarity)"
   ]
  },
  {
   "cell_type": "code",
   "execution_count": 9,
   "id": "937bd8bd",
   "metadata": {},
   "outputs": [
    {
     "data": {
      "text/plain": [
       "Sentiment(polarity=0.39166666666666666, subjectivity=0.4357142857142857)"
      ]
     },
     "execution_count": 9,
     "metadata": {},
     "output_type": "execute_result"
    }
   ],
   "source": [
    "testimonial = TextBlob(\"Textblob is amazingly simple to use. What great fun!\")\n",
    "testimonial.sentiment"
   ]
  },
  {
   "cell_type": "code",
   "execution_count": 10,
   "id": "54997163",
   "metadata": {},
   "outputs": [
    {
     "data": {
      "text/plain": [
       "Sentiment(polarity=0.475, subjectivity=0.45000000000000007)"
      ]
     },
     "execution_count": 10,
     "metadata": {},
     "output_type": "execute_result"
    }
   ],
   "source": [
    "testimonial = TextBlob(\"This computer is good , although it is very costly !\")\n",
    "testimonial.sentiment"
   ]
  },
  {
   "cell_type": "code",
   "execution_count": 11,
   "id": "e548f9c3",
   "metadata": {},
   "outputs": [
    {
     "data": {
      "text/plain": [
       "Sentiment(polarity=-0.3299999999999999, subjectivity=0.5833333333333334)"
      ]
     },
     "execution_count": 11,
     "metadata": {},
     "output_type": "execute_result"
    }
   ],
   "source": [
    "testimonial = TextBlob(\"This computer is very bad , although it is very costly !\")\n",
    "testimonial.sentiment"
   ]
  },
  {
   "cell_type": "markdown",
   "id": "02e30490",
   "metadata": {},
   "source": [
    "* tokanization"
   ]
  },
  {
   "cell_type": "code",
   "execution_count": 12,
   "id": "09e7ee47",
   "metadata": {},
   "outputs": [
    {
     "data": {
      "text/plain": [
       "WordList(['This', 'computer', 'is', 'very', 'bad', 'although', 'it', 'is', 'very', 'costly'])"
      ]
     },
     "execution_count": 12,
     "metadata": {},
     "output_type": "execute_result"
    }
   ],
   "source": [
    "testimonial.words"
   ]
  },
  {
   "cell_type": "markdown",
   "id": "53e2b24e",
   "metadata": {},
   "source": [
    "* Get Word and Noun Phrase Frequencies"
   ]
  },
  {
   "cell_type": "code",
   "execution_count": 13,
   "id": "f19fc376",
   "metadata": {},
   "outputs": [
    {
     "data": {
      "text/plain": [
       "1"
      ]
     },
     "execution_count": 13,
     "metadata": {},
     "output_type": "execute_result"
    }
   ],
   "source": [
    "testimonial.word_counts['computer']"
   ]
  },
  {
   "cell_type": "code",
   "execution_count": 14,
   "id": "d6a69334",
   "metadata": {},
   "outputs": [
    {
     "data": {
      "text/plain": [
       "1"
      ]
     },
     "execution_count": 14,
     "metadata": {},
     "output_type": "execute_result"
    }
   ],
   "source": [
    "testimonial.words.count('computer', case_sensitive=True)"
   ]
  },
  {
   "cell_type": "markdown",
   "id": "f63cf20c",
   "metadata": {},
   "source": [
    "* n grams"
   ]
  },
  {
   "cell_type": "code",
   "execution_count": 15,
   "id": "fc559a67",
   "metadata": {},
   "outputs": [
    {
     "data": {
      "text/plain": [
       "[WordList(['This', 'computer', 'is']),\n",
       " WordList(['computer', 'is', 'very']),\n",
       " WordList(['is', 'very', 'bad']),\n",
       " WordList(['very', 'bad', 'although']),\n",
       " WordList(['bad', 'although', 'it']),\n",
       " WordList(['although', 'it', 'is']),\n",
       " WordList(['it', 'is', 'very']),\n",
       " WordList(['is', 'very', 'costly'])]"
      ]
     },
     "execution_count": 15,
     "metadata": {},
     "output_type": "execute_result"
    }
   ],
   "source": [
    "testimonial.ngrams(n=3)"
   ]
  },
  {
   "cell_type": "markdown",
   "id": "275bb710",
   "metadata": {},
   "source": [
    "## NLTK"
   ]
  },
  {
   "cell_type": "code",
   "execution_count": 16,
   "id": "0f89ae5a",
   "metadata": {},
   "outputs": [],
   "source": [
    "import nltk"
   ]
  },
  {
   "cell_type": "code",
   "execution_count": 17,
   "id": "92f07633",
   "metadata": {},
   "outputs": [],
   "source": [
    "sentence = \"\"\"At eight o'clock on Thursday morning Arthur didn't feel very good.\"\"\""
   ]
  },
  {
   "cell_type": "markdown",
   "id": "4da35fe6",
   "metadata": {},
   "source": [
    "* tokenization"
   ]
  },
  {
   "cell_type": "code",
   "execution_count": 18,
   "id": "c41ee6aa",
   "metadata": {},
   "outputs": [
    {
     "data": {
      "text/plain": [
       "['At',\n",
       " 'eight',\n",
       " \"o'clock\",\n",
       " 'on',\n",
       " 'Thursday',\n",
       " 'morning',\n",
       " 'Arthur',\n",
       " 'did',\n",
       " \"n't\",\n",
       " 'feel',\n",
       " 'very',\n",
       " 'good',\n",
       " '.']"
      ]
     },
     "execution_count": 18,
     "metadata": {},
     "output_type": "execute_result"
    }
   ],
   "source": [
    "tokens = nltk.word_tokenize(sentence)\n",
    "tokens"
   ]
  },
  {
   "cell_type": "markdown",
   "id": "e36451c3",
   "metadata": {},
   "source": [
    "* pos tagging "
   ]
  },
  {
   "cell_type": "code",
   "execution_count": 19,
   "id": "215c281f",
   "metadata": {},
   "outputs": [
    {
     "data": {
      "text/plain": [
       "[('At', 'IN'),\n",
       " ('eight', 'CD'),\n",
       " (\"o'clock\", 'NN'),\n",
       " ('on', 'IN'),\n",
       " ('Thursday', 'NNP'),\n",
       " ('morning', 'NN'),\n",
       " ('Arthur', 'NNP'),\n",
       " ('did', 'VBD'),\n",
       " (\"n't\", 'RB'),\n",
       " ('feel', 'VB'),\n",
       " ('very', 'RB'),\n",
       " ('good', 'JJ'),\n",
       " ('.', '.')]"
      ]
     },
     "execution_count": 19,
     "metadata": {},
     "output_type": "execute_result"
    }
   ],
   "source": [
    "tagged = nltk.pos_tag(tokens)\n",
    "tagged"
   ]
  },
  {
   "cell_type": "code",
   "execution_count": 20,
   "id": "22071b97",
   "metadata": {},
   "outputs": [
    {
     "name": "stderr",
     "output_type": "stream",
     "text": [
      "[nltk_data] Downloading package maxent_ne_chunker to\n",
      "[nltk_data]     C:\\Users\\kavan\\AppData\\Roaming\\nltk_data...\n",
      "[nltk_data]   Package maxent_ne_chunker is already up-to-date!\n",
      "[nltk_data] Downloading package words to\n",
      "[nltk_data]     C:\\Users\\kavan\\AppData\\Roaming\\nltk_data...\n",
      "[nltk_data]   Package words is already up-to-date!\n"
     ]
    },
    {
     "data": {
      "text/plain": [
       "True"
      ]
     },
     "execution_count": 20,
     "metadata": {},
     "output_type": "execute_result"
    }
   ],
   "source": [
    "nltk.download('maxent_ne_chunker')\n",
    "nltk.download('words')"
   ]
  },
  {
   "cell_type": "code",
   "execution_count": 21,
   "id": "f198e27b",
   "metadata": {},
   "outputs": [
    {
     "data": {
      "image/svg+xml": [
       "<svg baseProfile=\"full\" height=\"168px\" preserveAspectRatio=\"xMidYMid meet\" style=\"font-family: times, serif; font-weight: normal; font-style: normal; font-size: 16px;\" version=\"1.1\" viewBox=\"0,0,656.0,168.0\" width=\"656px\" xmlns=\"http://www.w3.org/2000/svg\" xmlns:ev=\"http://www.w3.org/2001/xml-events\" xmlns:xlink=\"http://www.w3.org/1999/xlink\"><defs /><svg width=\"100%\" x=\"0\" y=\"0px\"><defs /><text text-anchor=\"middle\" x=\"50%\" y=\"16px\">S</text></svg><svg width=\"4.87805%\" x=\"0%\" y=\"48px\"><defs /><svg width=\"100%\" x=\"0\" y=\"0px\"><defs /><text text-anchor=\"middle\" x=\"50%\" y=\"16px\">At</text></svg><svg width=\"100%\" x=\"0%\" y=\"48px\"><defs /><svg width=\"100%\" x=\"0\" y=\"0px\"><defs /><text text-anchor=\"middle\" x=\"50%\" y=\"16px\">IN</text></svg></svg><line stroke=\"black\" x1=\"50%\" x2=\"50%\" y1=\"19.2px\" y2=\"48px\" /></svg><line stroke=\"black\" x1=\"50%\" x2=\"2.43902%\" y1=\"19.2px\" y2=\"48px\" /><svg width=\"8.53659%\" x=\"4.87805%\" y=\"48px\"><defs /><svg width=\"100%\" x=\"0\" y=\"0px\"><defs /><text text-anchor=\"middle\" x=\"50%\" y=\"16px\">eight</text></svg><svg width=\"100%\" x=\"0%\" y=\"48px\"><defs /><svg width=\"100%\" x=\"0\" y=\"0px\"><defs /><text text-anchor=\"middle\" x=\"50%\" y=\"16px\">CD</text></svg></svg><line stroke=\"black\" x1=\"50%\" x2=\"50%\" y1=\"19.2px\" y2=\"48px\" /></svg><line stroke=\"black\" x1=\"50%\" x2=\"9.14634%\" y1=\"19.2px\" y2=\"48px\" /><svg width=\"10.9756%\" x=\"13.4146%\" y=\"48px\"><defs /><svg width=\"100%\" x=\"0\" y=\"0px\"><defs /><text text-anchor=\"middle\" x=\"50%\" y=\"16px\">o'clock</text></svg><svg width=\"100%\" x=\"0%\" y=\"48px\"><defs /><svg width=\"100%\" x=\"0\" y=\"0px\"><defs /><text text-anchor=\"middle\" x=\"50%\" y=\"16px\">NN</text></svg></svg><line stroke=\"black\" x1=\"50%\" x2=\"50%\" y1=\"19.2px\" y2=\"48px\" /></svg><line stroke=\"black\" x1=\"50%\" x2=\"18.9024%\" y1=\"19.2px\" y2=\"48px\" /><svg width=\"4.87805%\" x=\"24.3902%\" y=\"48px\"><defs /><svg width=\"100%\" x=\"0\" y=\"0px\"><defs /><text text-anchor=\"middle\" x=\"50%\" y=\"16px\">on</text></svg><svg width=\"100%\" x=\"0%\" y=\"48px\"><defs /><svg width=\"100%\" x=\"0\" y=\"0px\"><defs /><text text-anchor=\"middle\" x=\"50%\" y=\"16px\">IN</text></svg></svg><line stroke=\"black\" x1=\"50%\" x2=\"50%\" y1=\"19.2px\" y2=\"48px\" /></svg><line stroke=\"black\" x1=\"50%\" x2=\"26.8293%\" y1=\"19.2px\" y2=\"48px\" /><svg width=\"12.1951%\" x=\"29.2683%\" y=\"48px\"><defs /><svg width=\"100%\" x=\"0\" y=\"0px\"><defs /><text text-anchor=\"middle\" x=\"50%\" y=\"16px\">Thursday</text></svg><svg width=\"100%\" x=\"0%\" y=\"48px\"><defs /><svg width=\"100%\" x=\"0\" y=\"0px\"><defs /><text text-anchor=\"middle\" x=\"50%\" y=\"16px\">NNP</text></svg></svg><line stroke=\"black\" x1=\"50%\" x2=\"50%\" y1=\"19.2px\" y2=\"48px\" /></svg><line stroke=\"black\" x1=\"50%\" x2=\"35.3659%\" y1=\"19.2px\" y2=\"48px\" /><svg width=\"10.9756%\" x=\"41.4634%\" y=\"48px\"><defs /><svg width=\"100%\" x=\"0\" y=\"0px\"><defs /><text text-anchor=\"middle\" x=\"50%\" y=\"16px\">morning</text></svg><svg width=\"100%\" x=\"0%\" y=\"48px\"><defs /><svg width=\"100%\" x=\"0\" y=\"0px\"><defs /><text text-anchor=\"middle\" x=\"50%\" y=\"16px\">NN</text></svg></svg><line stroke=\"black\" x1=\"50%\" x2=\"50%\" y1=\"19.2px\" y2=\"48px\" /></svg><line stroke=\"black\" x1=\"50%\" x2=\"46.9512%\" y1=\"19.2px\" y2=\"48px\" /><svg width=\"9.7561%\" x=\"52.439%\" y=\"48px\"><defs /><svg width=\"100%\" x=\"0\" y=\"0px\"><defs /><text text-anchor=\"middle\" x=\"50%\" y=\"16px\">PERSON</text></svg><svg width=\"100%\" x=\"0%\" y=\"48px\"><defs /><svg width=\"100%\" x=\"0\" y=\"0px\"><defs /><text text-anchor=\"middle\" x=\"50%\" y=\"16px\">Arthur</text></svg><svg width=\"100%\" x=\"0%\" y=\"48px\"><defs /><svg width=\"100%\" x=\"0\" y=\"0px\"><defs /><text text-anchor=\"middle\" x=\"50%\" y=\"16px\">NNP</text></svg></svg><line stroke=\"black\" x1=\"50%\" x2=\"50%\" y1=\"19.2px\" y2=\"48px\" /></svg><line stroke=\"black\" x1=\"50%\" x2=\"50%\" y1=\"19.2px\" y2=\"48px\" /></svg><line stroke=\"black\" x1=\"50%\" x2=\"57.3171%\" y1=\"19.2px\" y2=\"48px\" /><svg width=\"6.09756%\" x=\"62.1951%\" y=\"48px\"><defs /><svg width=\"100%\" x=\"0\" y=\"0px\"><defs /><text text-anchor=\"middle\" x=\"50%\" y=\"16px\">did</text></svg><svg width=\"100%\" x=\"0%\" y=\"48px\"><defs /><svg width=\"100%\" x=\"0\" y=\"0px\"><defs /><text text-anchor=\"middle\" x=\"50%\" y=\"16px\">VBD</text></svg></svg><line stroke=\"black\" x1=\"50%\" x2=\"50%\" y1=\"19.2px\" y2=\"48px\" /></svg><line stroke=\"black\" x1=\"50%\" x2=\"65.2439%\" y1=\"19.2px\" y2=\"48px\" /><svg width=\"6.09756%\" x=\"68.2927%\" y=\"48px\"><defs /><svg width=\"100%\" x=\"0\" y=\"0px\"><defs /><text text-anchor=\"middle\" x=\"50%\" y=\"16px\">n't</text></svg><svg width=\"100%\" x=\"0%\" y=\"48px\"><defs /><svg width=\"100%\" x=\"0\" y=\"0px\"><defs /><text text-anchor=\"middle\" x=\"50%\" y=\"16px\">RB</text></svg></svg><line stroke=\"black\" x1=\"50%\" x2=\"50%\" y1=\"19.2px\" y2=\"48px\" /></svg><line stroke=\"black\" x1=\"50%\" x2=\"71.3415%\" y1=\"19.2px\" y2=\"48px\" /><svg width=\"7.31707%\" x=\"74.3902%\" y=\"48px\"><defs /><svg width=\"100%\" x=\"0\" y=\"0px\"><defs /><text text-anchor=\"middle\" x=\"50%\" y=\"16px\">feel</text></svg><svg width=\"100%\" x=\"0%\" y=\"48px\"><defs /><svg width=\"100%\" x=\"0\" y=\"0px\"><defs /><text text-anchor=\"middle\" x=\"50%\" y=\"16px\">VB</text></svg></svg><line stroke=\"black\" x1=\"50%\" x2=\"50%\" y1=\"19.2px\" y2=\"48px\" /></svg><line stroke=\"black\" x1=\"50%\" x2=\"78.0488%\" y1=\"19.2px\" y2=\"48px\" /><svg width=\"7.31707%\" x=\"81.7073%\" y=\"48px\"><defs /><svg width=\"100%\" x=\"0\" y=\"0px\"><defs /><text text-anchor=\"middle\" x=\"50%\" y=\"16px\">very</text></svg><svg width=\"100%\" x=\"0%\" y=\"48px\"><defs /><svg width=\"100%\" x=\"0\" y=\"0px\"><defs /><text text-anchor=\"middle\" x=\"50%\" y=\"16px\">RB</text></svg></svg><line stroke=\"black\" x1=\"50%\" x2=\"50%\" y1=\"19.2px\" y2=\"48px\" /></svg><line stroke=\"black\" x1=\"50%\" x2=\"85.3659%\" y1=\"19.2px\" y2=\"48px\" /><svg width=\"7.31707%\" x=\"89.0244%\" y=\"48px\"><defs /><svg width=\"100%\" x=\"0\" y=\"0px\"><defs /><text text-anchor=\"middle\" x=\"50%\" y=\"16px\">good</text></svg><svg width=\"100%\" x=\"0%\" y=\"48px\"><defs /><svg width=\"100%\" x=\"0\" y=\"0px\"><defs /><text text-anchor=\"middle\" x=\"50%\" y=\"16px\">JJ</text></svg></svg><line stroke=\"black\" x1=\"50%\" x2=\"50%\" y1=\"19.2px\" y2=\"48px\" /></svg><line stroke=\"black\" x1=\"50%\" x2=\"92.6829%\" y1=\"19.2px\" y2=\"48px\" /><svg width=\"3.65854%\" x=\"96.3415%\" y=\"48px\"><defs /><svg width=\"100%\" x=\"0\" y=\"0px\"><defs /><text text-anchor=\"middle\" x=\"50%\" y=\"16px\">.</text></svg><svg width=\"100%\" x=\"0%\" y=\"48px\"><defs /><svg width=\"100%\" x=\"0\" y=\"0px\"><defs /><text text-anchor=\"middle\" x=\"50%\" y=\"16px\">.</text></svg></svg><line stroke=\"black\" x1=\"50%\" x2=\"50%\" y1=\"19.2px\" y2=\"48px\" /></svg><line stroke=\"black\" x1=\"50%\" x2=\"98.1707%\" y1=\"19.2px\" y2=\"48px\" /></svg>"
      ],
      "text/plain": [
       "Tree('S', [('At', 'IN'), ('eight', 'CD'), (\"o'clock\", 'NN'), ('on', 'IN'), ('Thursday', 'NNP'), ('morning', 'NN'), Tree('PERSON', [('Arthur', 'NNP')]), ('did', 'VBD'), (\"n't\", 'RB'), ('feel', 'VB'), ('very', 'RB'), ('good', 'JJ'), ('.', '.')])"
      ]
     },
     "execution_count": 21,
     "metadata": {},
     "output_type": "execute_result"
    }
   ],
   "source": [
    "entities = nltk.chunk.ne_chunk(tagged)\n",
    "entities"
   ]
  },
  {
   "cell_type": "code",
   "execution_count": 22,
   "id": "9fdeb910",
   "metadata": {},
   "outputs": [],
   "source": [
    "from nltk.corpus import treebank"
   ]
  },
  {
   "cell_type": "code",
   "execution_count": 23,
   "id": "c4932dda",
   "metadata": {},
   "outputs": [
    {
     "name": "stderr",
     "output_type": "stream",
     "text": [
      "[nltk_data] Downloading package treebank to\n",
      "[nltk_data]     C:\\Users\\kavan\\AppData\\Roaming\\nltk_data...\n",
      "[nltk_data]   Package treebank is already up-to-date!\n"
     ]
    },
    {
     "data": {
      "text/plain": [
       "True"
      ]
     },
     "execution_count": 23,
     "metadata": {},
     "output_type": "execute_result"
    }
   ],
   "source": [
    "nltk.download('treebank')"
   ]
  },
  {
   "cell_type": "code",
   "execution_count": 24,
   "id": "7710fcf4",
   "metadata": {},
   "outputs": [],
   "source": [
    "t = treebank.parsed_sents('wsj_0001.mrg')[0]\n",
    "t.draw()"
   ]
  },
  {
   "cell_type": "markdown",
   "id": "588047bd",
   "metadata": {},
   "source": [
    "## spaCY"
   ]
  },
  {
   "cell_type": "code",
   "execution_count": 39,
   "id": "c8d03097",
   "metadata": {},
   "outputs": [],
   "source": [
    "import spacy"
   ]
  },
  {
   "cell_type": "code",
   "execution_count": 41,
   "id": "76b3ff4e",
   "metadata": {},
   "outputs": [],
   "source": [
    "nlp = spacy.load(\"en_core_web_sm\")"
   ]
  },
  {
   "cell_type": "code",
   "execution_count": 42,
   "id": "4f4bbc3b",
   "metadata": {},
   "outputs": [],
   "source": [
    "doc = nlp(\"Apple is looking at buying U.K. startup for $1 billion\")"
   ]
  },
  {
   "cell_type": "code",
   "execution_count": 43,
   "id": "9d6fa5f1",
   "metadata": {},
   "outputs": [
    {
     "name": "stdout",
     "output_type": "stream",
     "text": [
      "Apple PROPN nsubj\n",
      "is AUX aux\n",
      "looking VERB ROOT\n",
      "at ADP prep\n",
      "buying VERB pcomp\n",
      "U.K. PROPN dobj\n",
      "startup NOUN dep\n",
      "for ADP prep\n",
      "$ SYM quantmod\n",
      "1 NUM compound\n",
      "billion NUM pobj\n"
     ]
    }
   ],
   "source": [
    "for token in doc:\n",
    "    print(token.text, token.pos_, token.dep_)"
   ]
  },
  {
   "cell_type": "code",
   "execution_count": null,
   "id": "53def17f",
   "metadata": {},
   "outputs": [],
   "source": []
  },
  {
   "cell_type": "code",
   "execution_count": null,
   "id": "9c7192cb-20ff-4052-8f33-9408de3eb1c2",
   "metadata": {},
   "outputs": [],
   "source": []
  },
  {
   "cell_type": "code",
   "execution_count": 3,
   "id": "eb3f412b-3b35-4d1f-8315-772e6104e5f1",
   "metadata": {},
   "outputs": [
    {
     "name": "stdout",
     "output_type": "stream",
     "text": [
      "Text data saved to train2-2.txt\n"
     ]
    }
   ],
   "source": [
    "file_path = \"train2-2.txt\"\n",
    "\n",
    "# Open the file in write mode and save the text data\n",
    "with open(file_path, \"w\") as file:\n",
    "    file.write(text)\n",
    "\n",
    "print(f\"Text data saved to {file_path}\")"
   ]
  },
  {
   "cell_type": "code",
   "execution_count": 4,
   "id": "edd68ae4-6fed-4847-9f3e-1fe0b743180a",
   "metadata": {},
   "outputs": [],
   "source": [
    "from textblob import TextBlob\n",
    "import nltk\n",
    "from nltk import pos_tag, word_tokenize"
   ]
  },
  {
   "cell_type": "code",
   "execution_count": 5,
   "id": "b8e546e9-ab80-432c-b42d-3e53b8f0c81f",
   "metadata": {},
   "outputs": [
    {
     "name": "stdout",
     "output_type": "stream",
     "text": [
      "Formatted text saved to output.txt\n"
     ]
    }
   ],
   "source": [
    "tokens = word_tokenize(text)\n",
    "\n",
    "# Perform part-of-speech tagging using NLTK\n",
    "tagged_tokens = pos_tag(tokens)\n",
    "\n",
    "# Combine tokens and tags into a formatted string\n",
    "output_text = ' '.join(f'{token}/{tag}' for token, tag in tagged_tokens)\n",
    "\n",
    "# Specify the file path where you want to save the output\n",
    "output_file_path = \"output.txt\"\n",
    "\n",
    "# Write the formatted output to the file\n",
    "with open(output_file_path, \"w\") as file:\n",
    "    file.write(output_text)\n",
    "\n",
    "print(f\"Formatted text saved to {output_file_path}\")"
   ]
  }
 ],
 "metadata": {
  "kernelspec": {
   "display_name": "Python 3 (ipykernel)",
   "language": "python",
   "name": "python3"
  },
  "language_info": {
   "codemirror_mode": {
    "name": "ipython",
    "version": 3
   },
   "file_extension": ".py",
   "mimetype": "text/x-python",
   "name": "python",
   "nbconvert_exporter": "python",
   "pygments_lexer": "ipython3",
   "version": "3.11.5"
  }
 },
 "nbformat": 4,
 "nbformat_minor": 5
}
