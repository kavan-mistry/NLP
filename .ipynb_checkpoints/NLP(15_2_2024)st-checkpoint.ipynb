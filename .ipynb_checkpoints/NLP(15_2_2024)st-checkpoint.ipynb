{
  "nbformat": 4,
  "nbformat_minor": 0,
  "metadata": {
    "colab": {
      "provenance": []
    },
    "kernelspec": {
      "name": "python3",
      "display_name": "Python 3"
    },
    "language_info": {
      "name": "python"
    }
  },
  "cells": [
    {
      "cell_type": "code",
      "execution_count": null,
      "metadata": {
        "id": "Gac9KA5y7ynI"
      },
      "outputs": [],
      "source": [
        "import numpy as np\n",
        "import pandas as pd\n",
        "import matplotlib.pyplot as plt\n",
        "import seaborn as sns\n",
        "import regex"
      ]
    },
    {
      "cell_type": "code",
      "source": [
        "import nltk\n",
        "from nltk.corpus import stopwords"
      ],
      "metadata": {
        "id": "FEliKSsq8Cg9"
      },
      "execution_count": null,
      "outputs": []
    },
    {
      "cell_type": "code",
      "source": [
        "nltk.download('stopwords')"
      ],
      "metadata": {
        "colab": {
          "base_uri": "https://localhost:8080/"
        },
        "id": "_JMY3M819CqZ",
        "outputId": "9524d2bf-a7cc-46a4-906d-17924242cc48"
      },
      "execution_count": null,
      "outputs": [
        {
          "output_type": "stream",
          "name": "stderr",
          "text": [
            "[nltk_data] Downloading package stopwords to /root/nltk_data...\n",
            "[nltk_data]   Unzipping corpora/stopwords.zip.\n"
          ]
        },
        {
          "output_type": "execute_result",
          "data": {
            "text/plain": [
              "True"
            ]
          },
          "metadata": {},
          "execution_count": 3
        }
      ]
    },
    {
      "cell_type": "code",
      "source": [
        "nltk.download('tokenize')"
      ],
      "metadata": {
        "colab": {
          "base_uri": "https://localhost:8080/"
        },
        "id": "MbJxe87y-xrY",
        "outputId": "4981b163-c182-4818-f14f-99bb9a75c215"
      },
      "execution_count": null,
      "outputs": [
        {
          "output_type": "stream",
          "name": "stderr",
          "text": [
            "[nltk_data] Error loading tokenize: Package 'tokenize' not found in\n",
            "[nltk_data]     index\n"
          ]
        },
        {
          "output_type": "execute_result",
          "data": {
            "text/plain": [
              "False"
            ]
          },
          "metadata": {},
          "execution_count": 5
        }
      ]
    },
    {
      "cell_type": "code",
      "source": [
        "nltk.download('punkt')"
      ],
      "metadata": {
        "colab": {
          "base_uri": "https://localhost:8080/"
        },
        "id": "IkTtBd3D-9mP",
        "outputId": "123f06f6-5196-4007-f164-4b9b8e36db01"
      },
      "execution_count": null,
      "outputs": [
        {
          "output_type": "stream",
          "name": "stderr",
          "text": [
            "[nltk_data] Downloading package punkt to /root/nltk_data...\n",
            "[nltk_data]   Unzipping tokenizers/punkt.zip.\n"
          ]
        },
        {
          "output_type": "execute_result",
          "data": {
            "text/plain": [
              "True"
            ]
          },
          "metadata": {},
          "execution_count": 7
        }
      ]
    },
    {
      "cell_type": "code",
      "source": [
        "nltk.download('averaged_perceptron_tagger')"
      ],
      "metadata": {
        "colab": {
          "base_uri": "https://localhost:8080/"
        },
        "id": "FUllC9GY_T2f",
        "outputId": "10b24696-a0af-44d1-e741-71f99b3e5853"
      },
      "execution_count": null,
      "outputs": [
        {
          "output_type": "stream",
          "name": "stderr",
          "text": [
            "[nltk_data] Downloading package averaged_perceptron_tagger to\n",
            "[nltk_data]     /root/nltk_data...\n",
            "[nltk_data]   Package averaged_perceptron_tagger is already up-to-\n",
            "[nltk_data]       date!\n"
          ]
        },
        {
          "output_type": "execute_result",
          "data": {
            "text/plain": [
              "True"
            ]
          },
          "metadata": {},
          "execution_count": 9
        }
      ]
    },
    {
      "cell_type": "code",
      "source": [
        "text = \"Three or four switches have stopped working, and one switch's LED light also stopped suddenly after exactly one year of buying it. It's important to note that the service center is only located in Mumbai, which means it may be difficult to get help if you're not in that area. Based on these issues, it is strongly not recommended to purchase this product.Think before buying. Only after one month of usage the T key has started giving issues, at some cases it takes 3 looooooong presses for the T o appear. For this review also I am trying o press hard on he key o make i work. But all he places you are no seeing the 'T' means, it didnt come even afer trying more than thrice. Invest in a better one if you are really looking for a long lasting keyboard. Having said that, the look and feel is amazing but wha's the need when he keys do not work.After getting to Keyboard I had a problem with LED which is not working and keys are getting stuck in between. while claiming warranty is very hard task. You have to courier and all.\"\n",
        "words = nltk.word_tokenize(text)\n",
        "tags = nltk.pos_tag(words)\n",
        "print(tags)\n"
      ],
      "metadata": {
        "colab": {
          "base_uri": "https://localhost:8080/"
        },
        "id": "QGY5wsVX-WrA",
        "outputId": "85b05f7f-5d36-46fc-984e-b462f57823ff"
      },
      "execution_count": null,
      "outputs": [
        {
          "output_type": "stream",
          "name": "stdout",
          "text": [
            "[('Three', 'CD'), ('or', 'CC'), ('four', 'CD'), ('switches', 'NNS'), ('have', 'VBP'), ('stopped', 'VBN'), ('working', 'VBG'), (',', ','), ('and', 'CC'), ('one', 'CD'), ('switch', 'NN'), (\"'s\", 'POS'), ('LED', 'NNP'), ('light', 'NN'), ('also', 'RB'), ('stopped', 'VBD'), ('suddenly', 'RB'), ('after', 'IN'), ('exactly', 'RB'), ('one', 'CD'), ('year', 'NN'), ('of', 'IN'), ('buying', 'VBG'), ('it', 'PRP'), ('.', '.'), ('It', 'PRP'), (\"'s\", 'VBZ'), ('important', 'JJ'), ('to', 'TO'), ('note', 'VB'), ('that', 'IN'), ('the', 'DT'), ('service', 'NN'), ('center', 'NN'), ('is', 'VBZ'), ('only', 'RB'), ('located', 'VBN'), ('in', 'IN'), ('Mumbai', 'NNP'), (',', ','), ('which', 'WDT'), ('means', 'VBZ'), ('it', 'PRP'), ('may', 'MD'), ('be', 'VB'), ('difficult', 'JJ'), ('to', 'TO'), ('get', 'VB'), ('help', 'VB'), ('if', 'IN'), ('you', 'PRP'), (\"'re\", 'VBP'), ('not', 'RB'), ('in', 'IN'), ('that', 'DT'), ('area', 'NN'), ('.', '.'), ('Based', 'VBN'), ('on', 'IN'), ('these', 'DT'), ('issues', 'NNS'), (',', ','), ('it', 'PRP'), ('is', 'VBZ'), ('strongly', 'RB'), ('not', 'RB'), ('recommended', 'VBN'), ('to', 'TO'), ('purchase', 'VB'), ('this', 'DT'), ('product.Think', 'NN'), ('before', 'IN'), ('buying', 'NN'), ('.', '.'), ('Only', 'RB'), ('after', 'IN'), ('one', 'CD'), ('month', 'NN'), ('of', 'IN'), ('usage', 'NN'), ('the', 'DT'), ('T', 'NNP'), ('key', 'NN'), ('has', 'VBZ'), ('started', 'VBN'), ('giving', 'VBG'), ('issues', 'NNS'), (',', ','), ('at', 'IN'), ('some', 'DT'), ('cases', 'NNS'), ('it', 'PRP'), ('takes', 'VBZ'), ('3', 'CD'), ('looooooong', 'JJ'), ('presses', 'NNS'), ('for', 'IN'), ('the', 'DT'), ('T', 'NNP'), ('o', 'NN'), ('appear', 'NN'), ('.', '.'), ('For', 'IN'), ('this', 'DT'), ('review', 'NN'), ('also', 'RB'), ('I', 'PRP'), ('am', 'VBP'), ('trying', 'VBG'), ('o', 'JJ'), ('press', 'NN'), ('hard', 'RB'), ('on', 'IN'), ('he', 'PRP'), ('key', 'JJ'), ('o', 'JJ'), ('make', 'NN'), ('i', 'NN'), ('work', 'NN'), ('.', '.'), ('But', 'CC'), ('all', 'DT'), ('he', 'PRP'), ('places', 'VBZ'), ('you', 'PRP'), ('are', 'VBP'), ('no', 'DT'), ('seeing', 'VBG'), ('the', 'DT'), (\"'T\", 'NNP'), (\"'\", 'POS'), ('means', 'NNS'), (',', ','), ('it', 'PRP'), ('didnt', 'VBZ'), ('come', 'VBN'), ('even', 'RB'), ('afer', 'VB'), ('trying', 'VBG'), ('more', 'JJR'), ('than', 'IN'), ('thrice', 'NN'), ('.', '.'), ('Invest', 'NNP'), ('in', 'IN'), ('a', 'DT'), ('better', 'JJR'), ('one', 'CD'), ('if', 'IN'), ('you', 'PRP'), ('are', 'VBP'), ('really', 'RB'), ('looking', 'VBG'), ('for', 'IN'), ('a', 'DT'), ('long', 'JJ'), ('lasting', 'JJ'), ('keyboard', 'NN'), ('.', '.'), ('Having', 'NNP'), ('said', 'VBD'), ('that', 'IN'), (',', ','), ('the', 'DT'), ('look', 'NN'), ('and', 'CC'), ('feel', 'NN'), ('is', 'VBZ'), ('amazing', 'VBG'), ('but', 'CC'), ('wha', 'NN'), (\"'s\", 'POS'), ('the', 'DT'), ('need', 'NN'), ('when', 'WRB'), ('he', 'PRP'), ('keys', 'VB'), ('do', 'VBP'), ('not', 'RB'), ('work.After', 'VB'), ('getting', 'VBG'), ('to', 'TO'), ('Keyboard', 'NNP'), ('I', 'PRP'), ('had', 'VBD'), ('a', 'DT'), ('problem', 'NN'), ('with', 'IN'), ('LED', 'NNP'), ('which', 'WDT'), ('is', 'VBZ'), ('not', 'RB'), ('working', 'VBG'), ('and', 'CC'), ('keys', 'NNS'), ('are', 'VBP'), ('getting', 'VBG'), ('stuck', 'VBN'), ('in', 'IN'), ('between.while', 'NN'), ('claiming', 'VBG'), ('warranty', 'NN'), ('is', 'VBZ'), ('very', 'RB'), ('hard', 'JJ'), ('task', 'NN'), ('.', '.'), ('You', 'PRP'), ('have', 'VBP'), ('to', 'TO'), ('courier', 'JJR'), ('and', 'CC'), ('all', 'DT'), ('.', '.')]\n"
          ]
        }
      ]
    },
    {
      "cell_type": "code",
      "source": [
        "from nltk import bigrams\n",
        "bigrams = list(bigrams(words))\n",
        "print(bigrams)"
      ],
      "metadata": {
        "colab": {
          "base_uri": "https://localhost:8080/"
        },
        "id": "3eOcv4Tl_0N8",
        "outputId": "c7855a85-7c0b-47e5-d010-517f0043d4af"
      },
      "execution_count": null,
      "outputs": [
        {
          "output_type": "stream",
          "name": "stdout",
          "text": [
            "[('Three', 'or'), ('or', 'four'), ('four', 'switches'), ('switches', 'have'), ('have', 'stopped'), ('stopped', 'working'), ('working', ','), (',', 'and'), ('and', 'one'), ('one', 'switch'), ('switch', \"'s\"), (\"'s\", 'LED'), ('LED', 'light'), ('light', 'also'), ('also', 'stopped'), ('stopped', 'suddenly'), ('suddenly', 'after'), ('after', 'exactly'), ('exactly', 'one'), ('one', 'year'), ('year', 'of'), ('of', 'buying'), ('buying', 'it'), ('it', '.'), ('.', 'It'), ('It', \"'s\"), (\"'s\", 'important'), ('important', 'to'), ('to', 'note'), ('note', 'that'), ('that', 'the'), ('the', 'service'), ('service', 'center'), ('center', 'is'), ('is', 'only'), ('only', 'located'), ('located', 'in'), ('in', 'Mumbai'), ('Mumbai', ','), (',', 'which'), ('which', 'means'), ('means', 'it'), ('it', 'may'), ('may', 'be'), ('be', 'difficult'), ('difficult', 'to'), ('to', 'get'), ('get', 'help'), ('help', 'if'), ('if', 'you'), ('you', \"'re\"), (\"'re\", 'not'), ('not', 'in'), ('in', 'that'), ('that', 'area'), ('area', '.'), ('.', 'Based'), ('Based', 'on'), ('on', 'these'), ('these', 'issues'), ('issues', ','), (',', 'it'), ('it', 'is'), ('is', 'strongly'), ('strongly', 'not'), ('not', 'recommended'), ('recommended', 'to'), ('to', 'purchase'), ('purchase', 'this'), ('this', 'product.Think'), ('product.Think', 'before'), ('before', 'buying'), ('buying', '.'), ('.', 'Only'), ('Only', 'after'), ('after', 'one'), ('one', 'month'), ('month', 'of'), ('of', 'usage'), ('usage', 'the'), ('the', 'T'), ('T', 'key'), ('key', 'has'), ('has', 'started'), ('started', 'giving'), ('giving', 'issues'), ('issues', ','), (',', 'at'), ('at', 'some'), ('some', 'cases'), ('cases', 'it'), ('it', 'takes'), ('takes', '3'), ('3', 'looooooong'), ('looooooong', 'presses'), ('presses', 'for'), ('for', 'the'), ('the', 'T'), ('T', 'o'), ('o', 'appear'), ('appear', '.'), ('.', 'For'), ('For', 'this'), ('this', 'review'), ('review', 'also'), ('also', 'I'), ('I', 'am'), ('am', 'trying'), ('trying', 'o'), ('o', 'press'), ('press', 'hard'), ('hard', 'on'), ('on', 'he'), ('he', 'key'), ('key', 'o'), ('o', 'make'), ('make', 'i'), ('i', 'work'), ('work', '.'), ('.', 'But'), ('But', 'all'), ('all', 'he'), ('he', 'places'), ('places', 'you'), ('you', 'are'), ('are', 'no'), ('no', 'seeing'), ('seeing', 'the'), ('the', \"'T\"), (\"'T\", \"'\"), (\"'\", 'means'), ('means', ','), (',', 'it'), ('it', 'didnt'), ('didnt', 'come'), ('come', 'even'), ('even', 'afer'), ('afer', 'trying'), ('trying', 'more'), ('more', 'than'), ('than', 'thrice'), ('thrice', '.'), ('.', 'Invest'), ('Invest', 'in'), ('in', 'a'), ('a', 'better'), ('better', 'one'), ('one', 'if'), ('if', 'you'), ('you', 'are'), ('are', 'really'), ('really', 'looking'), ('looking', 'for'), ('for', 'a'), ('a', 'long'), ('long', 'lasting'), ('lasting', 'keyboard'), ('keyboard', '.'), ('.', 'Having'), ('Having', 'said'), ('said', 'that'), ('that', ','), (',', 'the'), ('the', 'look'), ('look', 'and'), ('and', 'feel'), ('feel', 'is'), ('is', 'amazing'), ('amazing', 'but'), ('but', 'wha'), ('wha', \"'s\"), (\"'s\", 'the'), ('the', 'need'), ('need', 'when'), ('when', 'he'), ('he', 'keys'), ('keys', 'do'), ('do', 'not'), ('not', 'work.After'), ('work.After', 'getting'), ('getting', 'to'), ('to', 'Keyboard'), ('Keyboard', 'I'), ('I', 'had'), ('had', 'a'), ('a', 'problem'), ('problem', 'with'), ('with', 'LED'), ('LED', 'which'), ('which', 'is'), ('is', 'not'), ('not', 'working'), ('working', 'and'), ('and', 'keys'), ('keys', 'are'), ('are', 'getting'), ('getting', 'stuck'), ('stuck', 'in'), ('in', 'between.while'), ('between.while', 'claiming'), ('claiming', 'warranty'), ('warranty', 'is'), ('is', 'very'), ('very', 'hard'), ('hard', 'task'), ('task', '.'), ('.', 'You'), ('You', 'have'), ('have', 'to'), ('to', 'courier'), ('courier', 'and'), ('and', 'all'), ('all', '.')]\n"
          ]
        }
      ]
    },
    {
      "cell_type": "markdown",
      "source": [
        "JJ-NN/NNS\n",
        "RB/RBR/RBS-JJ"
      ],
      "metadata": {
        "id": "HDnml5BfKCa7"
      }
    },
    {
      "cell_type": "code",
      "source": [
        "def filter_bigrams(tags):\n",
        "    filtered_bigrams = []\n",
        "    for i in range(len(tags) - 1):\n",
        "        first_word, first_tag = tags[i]\n",
        "        second_word, second_tag = tags[i + 1]\n",
        "\n",
        "        if (first_tag.startswith('JJ') and second_tag in ['NN', 'NNS']) \\\n",
        "            or (first_tag in ['RB', 'RBR', 'RBS'] and second_tag.startswith('JJ') and not (second_tag == 'NN' or second_tag == 'NNS')) \\\n",
        "            or (first_tag.startswith('JJ') and second_tag.startswith('JJ') and not (second_tag == 'NN' or second_tag == 'NNS')) \\\n",
        "            or ((first_tag == 'NN' or first_tag == 'NNS') and second_tag.startswith('JJ') and not (second_tag == 'NN' or second_tag == 'NNS')) \\\n",
        "            or (first_tag in ['RB', 'RBR', 'RBS'] and second_tag.startswith('VB') and second_tag != 'NNS'):\n",
        "            filtered_bigrams.append((first_word, second_word))\n",
        "    return filtered_bigrams\n",
        "\n",
        "filtered_bigrams = filter_bigrams(tags)\n",
        "\n",
        "for bigram in filtered_bigrams:\n",
        "  print(bigram)"
      ],
      "metadata": {
        "colab": {
          "base_uri": "https://localhost:8080/"
        },
        "id": "aMgW0E5iH8Rw",
        "outputId": "67112fd3-81b0-460a-a450-924ad5942de7"
      },
      "execution_count": null,
      "outputs": [
        {
          "output_type": "stream",
          "name": "stdout",
          "text": [
            "('also', 'stopped')\n",
            "('only', 'located')\n",
            "('not', 'recommended')\n",
            "('looooooong', 'presses')\n",
            "('o', 'press')\n",
            "('key', 'o')\n",
            "('o', 'make')\n",
            "('even', 'afer')\n",
            "('really', 'looking')\n",
            "('long', 'lasting')\n",
            "('lasting', 'keyboard')\n",
            "('not', 'work.After')\n",
            "('not', 'working')\n",
            "('very', 'hard')\n",
            "('hard', 'task')\n"
          ]
        }
      ]
    },
    {
      "cell_type": "code",
      "source": [
        "from nltk.probability import FreqDist\n",
        "from math import log\n",
        "\n",
        "def compute_pmi(filtered_bigrams, words):\n",
        "  pmi_dict = {}\n",
        "  word_freq = FreqDist(words)\n",
        "  bigram_freq = FreqDist(filtered_bigrams)\n",
        "  for bigram in filtered_bigrams:\n",
        "    word1, word2 = bigram\n",
        "    pmi = log((bigram_freq[bigram] * len(words)) / (word_freq[word1] * word_freq[word2]))\n",
        "    pmi_dict[bigram] = pmi\n",
        "  return pmi_dict\n",
        "\n",
        "pmi_dict = compute_pmi(filtered_bigrams, words)\n",
        "\n",
        "for bigram, pmi in pmi_dict.items():\n",
        "  print(f\"{bigram}: {pmi}\")\n"
      ],
      "metadata": {
        "colab": {
          "base_uri": "https://localhost:8080/"
        },
        "id": "3hgQ0gG_Lg3N",
        "outputId": "7c6183ee-49b2-4b9c-fe3c-403f75f02a87"
      },
      "execution_count": null,
      "outputs": [
        {
          "output_type": "stream",
          "name": "stdout",
          "text": [
            "('also', 'stopped'): 3.979681653901961\n",
            "('only', 'located'): 5.365976015021851\n",
            "('not', 'recommended'): 3.979681653901961\n",
            "('looooooong', 'presses'): 5.365976015021851\n",
            "('o', 'press'): 4.267363726353742\n",
            "('key', 'o'): 3.574216545793796\n",
            "('o', 'make'): 4.267363726353742\n",
            "('even', 'afer'): 5.365976015021851\n",
            "('really', 'looking'): 5.365976015021851\n",
            "('long', 'lasting'): 5.365976015021851\n",
            "('lasting', 'keyboard'): 5.365976015021851\n",
            "('not', 'work.After'): 3.979681653901961\n",
            "('not', 'working'): 3.2865344733420154\n",
            "('very', 'hard'): 4.672828834461906\n",
            "('hard', 'task'): 4.672828834461906\n"
          ]
        }
      ]
    },
    {
      "cell_type": "code",
      "source": [
        "# Define positive and negative words\n",
        "positive_words = [\"good\", \"great\", \"excellent\", \"amazing\", \"wonderful\"]\n",
        "negative_words = [\"not\", \"stopped\", \"difficult\", \"horrible\", \"Problem\"]\n",
        "\n",
        "# Filter bigrams based on sentiment\n",
        "positive_bigrams = [bigram for bigram in filtered_bigrams if bigram[0] in positive_words or bigram[1] in positive_words]\n",
        "negative_bigrams = [bigram for bigram in filtered_bigrams if bigram[0] in negative_words or bigram[1] in negative_words]\n",
        "\n",
        "# Compute PMI for positive and negative bigrams\n",
        "positive_pmi_dict = compute_pmi(positive_bigrams, words)\n",
        "negative_pmi_dict = compute_pmi(negative_bigrams, words)\n",
        "\n",
        "# Print PMI for positive and negative bigrams\n",
        "print(\"Positive Bigrams:\")\n",
        "for bigram, pmi in positive_pmi_dict.items():\n",
        "  print(f\"{bigram}: {pmi}\")\n",
        "\n",
        "print(\"\\nNegative Bigrams:\")\n",
        "for bigram, pmi in negative_pmi_dict.items():\n",
        "  print(f\"{bigram}: {pmi}\")\n"
      ],
      "metadata": {
        "colab": {
          "base_uri": "https://localhost:8080/"
        },
        "id": "APMyObnqPTbU",
        "outputId": "f7f8f4e8-009a-45e8-bf3d-ee7c793e029e"
      },
      "execution_count": null,
      "outputs": [
        {
          "output_type": "stream",
          "name": "stdout",
          "text": [
            "Positive Bigrams:\n",
            "\n",
            "Negative Bigrams:\n",
            "('also', 'stopped'): 3.979681653901961\n",
            "('not', 'recommended'): 3.979681653901961\n",
            "('not', 'work.After'): 3.979681653901961\n",
            "('not', 'working'): 3.2865344733420154\n"
          ]
        }
      ]
    },
    {
      "cell_type": "code",
      "source": [],
      "metadata": {
        "id": "HLoXgmFgQLkF"
      },
      "execution_count": null,
      "outputs": []
    }
  ]
}